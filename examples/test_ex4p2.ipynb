{
 "cells": [
  {
   "cell_type": "code",
   "execution_count": 14,
   "metadata": {
    "collapsed": true
   },
   "outputs": [
    {
     "name": "stdout",
     "output_type": "stream",
     "text": [
      "The autoreload extension is already loaded. To reload it, use:\n",
      "  %reload_ext autoreload\n"
     ]
    }
   ],
   "source": [
    "%load_ext autoreload\n",
    "%autoreload 2\n",
    "\n",
    "import utils\n",
    "from sympy import sqrt\n",
    "import sympy as sy\n",
    "from sympy.physics.mechanics import dynamicsymbols, init_vprinting\n",
    "init_vprinting()"
   ]
  },
  {
   "cell_type": "code",
   "execution_count": 2,
   "outputs": [],
   "source": [
    "dh_params = [\n",
    "    [0, 0, \"d_1\", 0],\n",
    "    [0, 0, 0, \"theta_2\"],\n",
    "    [0, \"l_2\", 0, \"theta_3\"],\n",
    "]\n",
    "\n",
    "# Center of mass of each link\n",
    "m_center_points_0 = [\n",
    "    sy.Matrix([0, 0, ]),\n",
    "    sy.Matrix([0, 0, sy.Symbol(\"l_2\")])\n",
    "]\n",
    "\n",
    "# Link mass\n",
    "link_m = [sy.Symbol(\"m_1\"), sy.Symbol(\"m_2\"), sy.Symbol(\"m_3\")]\n",
    "\n",
    "# Link inertia tensor\n",
    "link_I = [\n",
    "    sy.diag(sy.Symbol(\"I_{xx1}\"), sy.Symbol(\"I_{yy1}\"), sy.Symbol(\"I_{zz1}\")),\n",
    "    sy.diag(sy.Symbol(\"I_{xx2}\"), sy.Symbol(\"I_{yy2}\"), sy.Symbol(\"I_{zz2}\")),\n",
    "    sy.diag(sy.Symbol(\"I_{xx3}\"), sy.Symbol(\"I_{yy3}\"), sy.Symbol(\"I_{zz3}\"))\n",
    "]"
   ],
   "metadata": {
    "collapsed": false,
    "pycharm": {
     "name": "#%%\n"
    }
   }
  },
  {
   "cell_type": "code",
   "execution_count": 3,
   "outputs": [
    {
     "data": {
      "text/plain": "<IPython.core.display.Math object>",
      "text/latex": "$\\displaystyle {}^0_1T = \\left[\\begin{matrix}1 & 0 & 0 & 0\\\\0 & 1 & 0 & 0\\\\0 & 0 & 1 & d_{1}\\\\0 & 0 & 0 & 1\\end{matrix}\\right]$"
     },
     "metadata": {},
     "output_type": "display_data"
    },
    {
     "data": {
      "text/plain": "<IPython.core.display.Math object>",
      "text/latex": "$\\displaystyle {}^1_2T = \\left[\\begin{matrix}\\cos{\\left(\\theta_{2} \\right)} & - \\sin{\\left(\\theta_{2} \\right)} & 0 & 0\\\\\\sin{\\left(\\theta_{2} \\right)} & \\cos{\\left(\\theta_{2} \\right)} & 0 & 0\\\\0 & 0 & 1 & 0\\\\0 & 0 & 0 & 1\\end{matrix}\\right]$"
     },
     "metadata": {},
     "output_type": "display_data"
    },
    {
     "data": {
      "text/plain": "<IPython.core.display.Math object>",
      "text/latex": "$\\displaystyle {}^2_3T = \\left[\\begin{matrix}\\cos{\\left(\\theta_{3} \\right)} & - \\sin{\\left(\\theta_{3} \\right)} & 0 & l_{2}\\\\\\sin{\\left(\\theta_{3} \\right)} & \\cos{\\left(\\theta_{3} \\right)} & 0 & 0\\\\0 & 0 & 1 & 0\\\\0 & 0 & 0 & 1\\end{matrix}\\right]$"
     },
     "metadata": {},
     "output_type": "display_data"
    },
    {
     "data": {
      "text/plain": "[Matrix([\n [1, 0, 0,   0],\n [0, 1, 0,   0],\n [0, 0, 1, d_1],\n [0, 0, 0,   1]]),\n Matrix([\n [cos(theta_2), -sin(theta_2), 0, 0],\n [sin(theta_2),  cos(theta_2), 0, 0],\n [           0,             0, 1, 0],\n [           0,             0, 0, 1]]),\n Matrix([\n [cos(theta_3), -sin(theta_3), 0, l_2],\n [sin(theta_3),  cos(theta_3), 0,   0],\n [           0,             0, 1,   0],\n [           0,             0, 0,   1]])]"
     },
     "execution_count": 3,
     "metadata": {},
     "output_type": "execute_result"
    }
   ],
   "source": [
    "utils.build_transf(dh_params)"
   ],
   "metadata": {
    "collapsed": false,
    "pycharm": {
     "name": "#%%\n"
    }
   }
  },
  {
   "cell_type": "code",
   "execution_count": 6,
   "outputs": [],
   "source": [],
   "metadata": {
    "collapsed": false,
    "pycharm": {
     "name": "#%%\n"
    }
   }
  },
  {
   "cell_type": "code",
   "execution_count": 9,
   "outputs": [
    {
     "data": {
      "text/plain": "θ₁̇",
      "image/png": "[encoded data removed]",
      "text/latex": "$\\displaystyle \\dot{\\theta}_{1}$"
     },
     "execution_count": 9,
     "metadata": {},
     "output_type": "execute_result"
    }
   ],
   "source": [
    "t = dynamicsymbols(\"theta_1\")\n",
    "t.diff()"
   ],
   "metadata": {
    "collapsed": false,
    "pycharm": {
     "name": "#%%\n"
    }
   }
  },
  {
   "cell_type": "code",
   "execution_count": 12,
   "outputs": [
    {
     "data": {
      "text/plain": "[[d₁], [θ₂], [l₂, θ₃]]",
      "image/png": "[encoded data removed]",
      "text/latex": "$\\displaystyle \\left[ \\left[ d_{1}\\right], \\  \\left[ \\theta_{2}\\right], \\  \\left[ l_{2}, \\  \\theta_{3}\\right]\\right]$"
     },
     "execution_count": 12,
     "metadata": {},
     "output_type": "execute_result"
    }
   ],
   "source": [
    "[[dynamicsymbols(p) for p in params if isinstance(p, str)] for params in dh_params]"
   ],
   "metadata": {
    "collapsed": false,
    "pycharm": {
     "name": "#%%\n"
    }
   }
  },
  {
   "cell_type": "code",
   "execution_count": 13,
   "outputs": [
    {
     "ename": "TypeError",
     "evalue": "lagrange() missing 3 required positional arguments: 'm_center_points_0', 'link_m', and 'link_I'",
     "output_type": "error",
     "traceback": [
      "\u001B[0;31m---------------------------------------------------------------------------\u001B[0m",
      "\u001B[0;31mTypeError\u001B[0m                                 Traceback (most recent call last)",
      "Input \u001B[0;32mIn [13]\u001B[0m, in \u001B[0;36m<cell line: 1>\u001B[0;34m()\u001B[0m\n\u001B[0;32m----> 1\u001B[0m \u001B[43mutils\u001B[49m\u001B[38;5;241;43m.\u001B[39;49m\u001B[43mlagrange\u001B[49m\u001B[43m(\u001B[49m\u001B[43mdh_params\u001B[49m\u001B[43m)\u001B[49m\n",
      "\u001B[0;31mTypeError\u001B[0m: lagrange() missing 3 required positional arguments: 'm_center_points_0', 'link_m', and 'link_I'"
     ]
    }
   ],
   "source": [
    "utils.lagrange(dh_params, m_center_points_0, link_m, link_I, verbose=True, simple=True)"
   ],
   "metadata": {
    "collapsed": false,
    "pycharm": {
     "name": "#%%\n"
    }
   }
  },
  {
   "cell_type": "code",
   "execution_count": null,
   "outputs": [],
   "source": [],
   "metadata": {
    "collapsed": false,
    "pycharm": {
     "name": "#%%\n"
    }
   }
  }
 ],
 "metadata": {
  "kernelspec": {
   "display_name": "Python 3",
   "language": "python",
   "name": "python3"
  },
  "language_info": {
   "codemirror_mode": {
    "name": "ipython",
    "version": 2
   },
   "file_extension": ".py",
   "mimetype": "text/x-python",
   "name": "python",
   "nbconvert_exporter": "python",
   "pygments_lexer": "ipython2",
   "version": "2.7.6"
  }
 },
 "nbformat": 4,
 "nbformat_minor": 0
}