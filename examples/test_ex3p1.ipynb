{
 "cells": [
  {
   "cell_type": "code",
   "execution_count": 1,
   "outputs": [],
   "source": [
    "%load_ext autoreload\n",
    "%autoreload 2\n",
    "\n",
    "from utils import build_transf, full_homo_transf, prop_velo, prop_force_torque\n",
    "from sympy import sqrt\n",
    "import sympy"
   ],
   "metadata": {
    "collapsed": false,
    "pycharm": {
     "name": "#%%\n"
    }
   }
  },
  {
   "cell_type": "markdown",
   "source": [
    "# Exercise 3 Problem 1\n",
    "\n",
    "Denavit-Hartenberg Parameters are from problem 1 of exercise 3."
   ],
   "metadata": {
    "collapsed": false,
    "pycharm": {
     "name": "#%% md\n"
    }
   }
  },
  {
   "cell_type": "code",
   "execution_count": 2,
   "metadata": {
    "collapsed": true
   },
   "outputs": [],
   "source": [
    "dh_params = [[0, 0, 0, \"theta_1\"],\n",
    "             [0, 1, 0, \"theta_2\"],\n",
    "             [45, 0, sqrt(2), \"theta_3\"],\n",
    "             [0, sqrt(2), 0, \"theta_4\"]]"
   ]
  },
  {
   "cell_type": "markdown",
   "source": [
    "## Homogeneous transforms"
   ],
   "metadata": {
    "collapsed": false,
    "pycharm": {
     "name": "#%% md\n"
    }
   }
  },
  {
   "cell_type": "code",
   "execution_count": 3,
   "outputs": [
    {
     "data": {
      "text/plain": "<IPython.core.display.Math object>",
      "text/latex": "$\\displaystyle {}^0_1T = \\left[\\begin{matrix}\\cos{\\left(\\theta_{1} \\right)} & - \\sin{\\left(\\theta_{1} \\right)} & 0 & 0\\\\\\sin{\\left(\\theta_{1} \\right)} & \\cos{\\left(\\theta_{1} \\right)} & 0 & 0\\\\0 & 0 & 1 & 0\\\\0 & 0 & 0 & 1\\end{matrix}\\right]$"
     },
     "metadata": {},
     "output_type": "display_data"
    },
    {
     "data": {
      "text/plain": "<IPython.core.display.Math object>",
      "text/latex": "$\\displaystyle {}^1_2T = \\left[\\begin{matrix}\\cos{\\left(\\theta_{2} \\right)} & - \\sin{\\left(\\theta_{2} \\right)} & 0 & 1\\\\\\sin{\\left(\\theta_{2} \\right)} & \\cos{\\left(\\theta_{2} \\right)} & 0 & 0\\\\0 & 0 & 1 & 0\\\\0 & 0 & 0 & 1\\end{matrix}\\right]$"
     },
     "metadata": {},
     "output_type": "display_data"
    },
    {
     "data": {
      "text/plain": "<IPython.core.display.Math object>",
      "text/latex": "$\\displaystyle {}^2_3T = \\left[\\begin{matrix}\\cos{\\left(\\theta_{3} \\right)} & - \\sin{\\left(\\theta_{3} \\right)} & 0 & 0\\\\\\frac{\\sqrt{2} \\sin{\\left(\\theta_{3} \\right)}}{2} & \\frac{\\sqrt{2} \\cos{\\left(\\theta_{3} \\right)}}{2} & - \\frac{\\sqrt{2}}{2} & -1\\\\\\frac{\\sqrt{2} \\sin{\\left(\\theta_{3} \\right)}}{2} & \\frac{\\sqrt{2} \\cos{\\left(\\theta_{3} \\right)}}{2} & \\frac{\\sqrt{2}}{2} & 1\\\\0 & 0 & 0 & 1\\end{matrix}\\right]$"
     },
     "metadata": {},
     "output_type": "display_data"
    },
    {
     "data": {
      "text/plain": "<IPython.core.display.Math object>",
      "text/latex": "$\\displaystyle {}^3_4T = \\left[\\begin{matrix}\\cos{\\left(\\theta_{4} \\right)} & - \\sin{\\left(\\theta_{4} \\right)} & 0 & \\sqrt{2}\\\\\\sin{\\left(\\theta_{4} \\right)} & \\cos{\\left(\\theta_{4} \\right)} & 0 & 0\\\\0 & 0 & 1 & 0\\\\0 & 0 & 0 & 1\\end{matrix}\\right]$"
     },
     "metadata": {},
     "output_type": "display_data"
    }
   ],
   "source": [
    "transforms = build_transf(dh_params, verbose=True)"
   ],
   "metadata": {
    "collapsed": false,
    "pycharm": {
     "name": "#%%\n"
    }
   }
  },
  {
   "cell_type": "code",
   "execution_count": 4,
   "outputs": [
    {
     "data": {
      "text/plain": "<IPython.core.display.Math object>",
      "text/latex": "$\\displaystyle {}^0_2T = \\left[\\begin{matrix}\\cos{\\left(\\theta_{1} + \\theta_{2} \\right)} & - \\sin{\\left(\\theta_{1} + \\theta_{2} \\right)} & 0 & \\cos{\\left(\\theta_{1} \\right)}\\\\\\sin{\\left(\\theta_{1} + \\theta_{2} \\right)} & \\cos{\\left(\\theta_{1} + \\theta_{2} \\right)} & 0 & \\sin{\\left(\\theta_{1} \\right)}\\\\0 & 0 & 1 & 0\\\\0 & 0 & 0 & 1\\end{matrix}\\right]$"
     },
     "metadata": {},
     "output_type": "display_data"
    },
    {
     "data": {
      "text/plain": "<IPython.core.display.Math object>",
      "text/latex": "$\\displaystyle {}^0_3T = \\left[\\begin{matrix}- \\frac{\\sqrt{2} \\sin{\\left(\\theta_{3} \\right)} \\sin{\\left(\\theta_{1} + \\theta_{2} \\right)}}{2} + \\cos{\\left(\\theta_{3} \\right)} \\cos{\\left(\\theta_{1} + \\theta_{2} \\right)} & - \\sin{\\left(\\theta_{3} \\right)} \\cos{\\left(\\theta_{1} + \\theta_{2} \\right)} - \\frac{\\sqrt{2} \\sin{\\left(\\theta_{1} + \\theta_{2} \\right)} \\cos{\\left(\\theta_{3} \\right)}}{2} & \\frac{\\sqrt{2} \\sin{\\left(\\theta_{1} + \\theta_{2} \\right)}}{2} & \\sin{\\left(\\theta_{1} + \\theta_{2} \\right)} + \\cos{\\left(\\theta_{1} \\right)}\\\\\\frac{\\sqrt{2} \\sin{\\left(\\theta_{3} \\right)} \\cos{\\left(\\theta_{1} + \\theta_{2} \\right)}}{2} + \\sin{\\left(\\theta_{1} + \\theta_{2} \\right)} \\cos{\\left(\\theta_{3} \\right)} & - \\sin{\\left(\\theta_{3} \\right)} \\sin{\\left(\\theta_{1} + \\theta_{2} \\right)} + \\frac{\\sqrt{2} \\cos{\\left(\\theta_{3} \\right)} \\cos{\\left(\\theta_{1} + \\theta_{2} \\right)}}{2} & - \\frac{\\sqrt{2} \\cos{\\left(\\theta_{1} + \\theta_{2} \\right)}}{2} & \\sin{\\left(\\theta_{1} \\right)} - \\cos{\\left(\\theta_{1} + \\theta_{2} \\right)}\\\\\\frac{\\sqrt{2} \\sin{\\left(\\theta_{3} \\right)}}{2} & \\frac{\\sqrt{2} \\cos{\\left(\\theta_{3} \\right)}}{2} & \\frac{\\sqrt{2}}{2} & 1\\\\0 & 0 & 0 & 1\\end{matrix}\\right]$"
     },
     "metadata": {},
     "output_type": "display_data"
    },
    {
     "data": {
      "text/plain": "<IPython.core.display.Math object>",
      "text/latex": "$\\displaystyle {}^0_4T = \\left[\\begin{matrix}- \\frac{\\sqrt{2} \\sin{\\left(\\theta_{1} + \\theta_{2} \\right)} \\sin{\\left(\\theta_{3} + \\theta_{4} \\right)}}{2} + \\cos{\\left(\\theta_{1} + \\theta_{2} \\right)} \\cos{\\left(\\theta_{3} + \\theta_{4} \\right)} & - \\frac{\\sqrt{2} \\sin{\\left(\\theta_{1} + \\theta_{2} \\right)} \\cos{\\left(\\theta_{3} + \\theta_{4} \\right)}}{2} - \\sin{\\left(\\theta_{3} + \\theta_{4} \\right)} \\cos{\\left(\\theta_{1} + \\theta_{2} \\right)} & \\frac{\\sqrt{2} \\sin{\\left(\\theta_{1} + \\theta_{2} \\right)}}{2} & - \\sin{\\left(\\theta_{3} \\right)} \\sin{\\left(\\theta_{1} + \\theta_{2} \\right)} + \\sin{\\left(\\theta_{1} + \\theta_{2} \\right)} + \\cos{\\left(\\theta_{1} \\right)} + \\sqrt{2} \\cos{\\left(\\theta_{3} \\right)} \\cos{\\left(\\theta_{1} + \\theta_{2} \\right)}\\\\\\sin{\\left(\\theta_{1} + \\theta_{2} \\right)} \\cos{\\left(\\theta_{3} + \\theta_{4} \\right)} + \\frac{\\sqrt{2} \\sin{\\left(\\theta_{3} + \\theta_{4} \\right)} \\cos{\\left(\\theta_{1} + \\theta_{2} \\right)}}{2} & - \\sin{\\left(\\theta_{1} + \\theta_{2} \\right)} \\sin{\\left(\\theta_{3} + \\theta_{4} \\right)} + \\frac{\\sqrt{2} \\cos{\\left(\\theta_{1} + \\theta_{2} \\right)} \\cos{\\left(\\theta_{3} + \\theta_{4} \\right)}}{2} & - \\frac{\\sqrt{2} \\cos{\\left(\\theta_{1} + \\theta_{2} \\right)}}{2} & \\sin{\\left(\\theta_{1} \\right)} + \\sin{\\left(\\theta_{3} \\right)} \\cos{\\left(\\theta_{1} + \\theta_{2} \\right)} + \\sqrt{2} \\sin{\\left(\\theta_{1} + \\theta_{2} \\right)} \\cos{\\left(\\theta_{3} \\right)} - \\cos{\\left(\\theta_{1} + \\theta_{2} \\right)}\\\\\\frac{\\sqrt{2} \\sin{\\left(\\theta_{3} + \\theta_{4} \\right)}}{2} & \\frac{\\sqrt{2} \\cos{\\left(\\theta_{3} + \\theta_{4} \\right)}}{2} & \\frac{\\sqrt{2}}{2} & \\sin{\\left(\\theta_{3} \\right)} + 1\\\\0 & 0 & 0 & 1\\end{matrix}\\right]$"
     },
     "metadata": {},
     "output_type": "display_data"
    }
   ],
   "source": [
    "full_transform = full_homo_transf(transforms)"
   ],
   "metadata": {
    "collapsed": false,
    "pycharm": {
     "name": "#%%\n"
    }
   }
  },
  {
   "cell_type": "markdown",
   "source": [],
   "metadata": {
    "collapsed": false,
    "pycharm": {
     "name": "#%% md\n"
    }
   }
  },
  {
   "cell_type": "markdown",
   "source": [
    "## Propagate linear-angular velocities"
   ],
   "metadata": {
    "collapsed": false,
    "pycharm": {
     "name": "#%% md\n"
    }
   }
  },
  {
   "cell_type": "code",
   "source": [
    "joint_points = [sympy.Matrix([0, 0, 0]),\n",
    "                sympy.Matrix([1, 0, 0]),\n",
    "                sympy.Matrix([0, -1, 1]),\n",
    "                sympy.Matrix([sqrt(2), 0, 0])]\n",
    "prop_velo(dh_params, joint_points)"
   ],
   "metadata": {
    "collapsed": false,
    "pycharm": {
     "name": "#%%\n"
    }
   },
   "execution_count": 5,
   "outputs": [
    {
     "data": {
      "text/plain": "<IPython.core.display.Math object>",
      "text/latex": "$\\displaystyle {}^1v_1 = \\left[\\begin{matrix}0\\\\0\\\\0\\end{matrix}\\right]$"
     },
     "metadata": {},
     "output_type": "display_data"
    },
    {
     "data": {
      "text/plain": "<IPython.core.display.Math object>",
      "text/latex": "$\\displaystyle {}^1\\omega_1 = \\left[\\begin{matrix}0\\\\0\\\\\\dot\\theta_{1}\\end{matrix}\\right]$"
     },
     "metadata": {},
     "output_type": "display_data"
    },
    {
     "data": {
      "text/plain": "<IPython.core.display.Math object>",
      "text/latex": "$\\displaystyle {}^2v_2 = \\left[\\begin{matrix}- \\dot\\theta_{1} \\sin{\\left(\\theta_{2} \\right)}\\\\\\dot\\theta_{1} \\cos{\\left(\\theta_{2} \\right)}\\\\0\\end{matrix}\\right]$"
     },
     "metadata": {},
     "output_type": "display_data"
    },
    {
     "data": {
      "text/plain": "<IPython.core.display.Math object>",
      "text/latex": "$\\displaystyle {}^2\\omega_2 = \\left[\\begin{matrix}0\\\\0\\\\\\dot\\theta_{1} + \\dot\\theta_{2}\\end{matrix}\\right]$"
     },
     "metadata": {},
     "output_type": "display_data"
    },
    {
     "data": {
      "text/plain": "<IPython.core.display.Math object>",
      "text/latex": "$\\displaystyle {}^3v_3 = \\left[\\begin{matrix}\\left(\\dot\\theta_{1} + \\dot\\theta_{2}\\right) \\cos{\\left(\\theta_{3} \\right)}\\\\\\frac{\\sqrt{2} \\left(\\dot\\theta_{1} + \\dot\\theta_{2}\\right) \\sin{\\left(\\theta_{3} \\right)}}{2}\\\\\\frac{\\sqrt{2} \\left(\\dot\\theta_{1} + \\dot\\theta_{2}\\right) \\sin{\\left(\\theta_{3} \\right)}}{2}\\end{matrix}\\right]$"
     },
     "metadata": {},
     "output_type": "display_data"
    },
    {
     "data": {
      "text/plain": "<IPython.core.display.Math object>",
      "text/latex": "$\\displaystyle {}^3\\omega_3 = \\left[\\begin{matrix}0\\\\\\frac{\\sqrt{2} \\left(- \\dot\\theta_{1} - \\dot\\theta_{2}\\right)}{2}\\\\\\dot\\theta_{3} + \\frac{\\sqrt{2} \\left(\\dot\\theta_{1} + \\dot\\theta_{2}\\right)}{2}\\end{matrix}\\right]$"
     },
     "metadata": {},
     "output_type": "display_data"
    },
    {
     "data": {
      "text/plain": "<IPython.core.display.Math object>",
      "text/latex": "$\\displaystyle {}^4v_4 = \\left[\\begin{matrix}\\left(- \\dot\\theta_{1} - \\dot\\theta_{2} - \\sqrt{2} \\dot\\theta_{3}\\right) \\sin{\\left(\\theta_{4} \\right)}\\\\\\left(\\dot\\theta_{1} + \\dot\\theta_{2} + \\sqrt{2} \\dot\\theta_{3}\\right) \\cos{\\left(\\theta_{4} \\right)}\\\\\\dot\\theta_{1} + \\dot\\theta_{2}\\end{matrix}\\right]$"
     },
     "metadata": {},
     "output_type": "display_data"
    },
    {
     "data": {
      "text/plain": "<IPython.core.display.Math object>",
      "text/latex": "$\\displaystyle {}^4\\omega_4 = \\left[\\begin{matrix}\\frac{\\sqrt{2} \\left(\\dot\\theta_{1} + \\dot\\theta_{2}\\right) \\sin{\\left(\\theta_{4} \\right)}}{2}\\\\- \\frac{\\sqrt{2} \\left(\\dot\\theta_{1} + \\dot\\theta_{2}\\right) \\cos{\\left(\\theta_{4} \\right)}}{2}\\\\\\dot\\theta_{3} + \\dot\\theta_{4} + \\frac{\\sqrt{2} \\left(\\dot\\theta_{1} + \\dot\\theta_{2}\\right)}{2}\\end{matrix}\\right]$"
     },
     "metadata": {},
     "output_type": "display_data"
    }
   ]
  },
  {
   "cell_type": "markdown",
   "source": [
    "We can read off the Jacobian from the linear-angular velocities.\n",
    "\n",
    "## Propagate force-torque vector\n",
    "\n",
    "The force-torque vector at the end-effector is from the exercise."
   ],
   "metadata": {
    "collapsed": false,
    "pycharm": {
     "name": "#%% md\n"
    }
   }
  },
  {
   "cell_type": "code",
   "execution_count": 20,
   "outputs": [
    {
     "data": {
      "text/plain": "<IPython.core.display.Math object>",
      "text/latex": "$\\displaystyle {}^4f_4 = \\left[\\begin{matrix}0\\\\6\\\\0\\end{matrix}\\right]$"
     },
     "metadata": {},
     "output_type": "display_data"
    },
    {
     "data": {
      "text/plain": "<IPython.core.display.Math object>",
      "text/latex": "$\\displaystyle {}^4n_4 = \\left[\\begin{matrix}7\\\\0\\\\8\\end{matrix}\\right]$"
     },
     "metadata": {},
     "output_type": "display_data"
    },
    {
     "data": {
      "text/plain": "<IPython.core.display.Math object>",
      "text/latex": "$\\displaystyle {}^3f_3 = \\left[\\begin{matrix}- 6 \\sin{\\left(\\theta_{4} \\right)}\\\\6 \\cos{\\left(\\theta_{4} \\right)}\\\\0\\end{matrix}\\right]$"
     },
     "metadata": {},
     "output_type": "display_data"
    },
    {
     "data": {
      "text/plain": "<IPython.core.display.Math object>",
      "text/latex": "$\\displaystyle {}^3n_3 = \\left[\\begin{matrix}7 \\cos{\\left(\\theta_{4} \\right)}\\\\7 \\sin{\\left(\\theta_{4} \\right)}\\\\6 \\sqrt{2} \\cos{\\left(\\theta_{4} \\right)} + 8\\end{matrix}\\right]$"
     },
     "metadata": {},
     "output_type": "display_data"
    },
    {
     "data": {
      "text/plain": "<IPython.core.display.Math object>",
      "text/latex": "$\\displaystyle {}^2f_2 = \\left[\\begin{matrix}- 6 \\sin{\\left(\\theta_{3} + \\theta_{4} \\right)}\\\\3 \\sqrt{2} \\cos{\\left(\\theta_{3} + \\theta_{4} \\right)}\\\\3 \\sqrt{2} \\cos{\\left(\\theta_{3} + \\theta_{4} \\right)}\\end{matrix}\\right]$"
     },
     "metadata": {},
     "output_type": "display_data"
    },
    {
     "data": {
      "text/plain": "<IPython.core.display.Math object>",
      "text/latex": "$\\displaystyle {}^2n_2 = \\left[\\begin{matrix}\\left(7 - 6 \\sqrt{2}\\right) \\cos{\\left(\\theta_{3} + \\theta_{4} \\right)}\\\\- 6 \\sin{\\left(\\theta_{3} + \\theta_{4} \\right)} + \\frac{7 \\sqrt{2} \\sin{\\left(\\theta_{3} + \\theta_{4} \\right)}}{2} - 6 \\cos{\\left(\\theta_{4} \\right)} - 4 \\sqrt{2}\\\\- 6 \\sin{\\left(\\theta_{3} + \\theta_{4} \\right)} + \\frac{7 \\sqrt{2} \\sin{\\left(\\theta_{3} + \\theta_{4} \\right)}}{2} + 6 \\cos{\\left(\\theta_{4} \\right)} + 4 \\sqrt{2}\\end{matrix}\\right]$"
     },
     "metadata": {},
     "output_type": "display_data"
    },
    {
     "data": {
      "text/plain": "<IPython.core.display.Math object>",
      "text/latex": "$\\displaystyle {}^1f_1 = \\left[\\begin{matrix}- 3 \\sqrt{2} \\sin{\\left(\\theta_{2} \\right)} \\cos{\\left(\\theta_{3} + \\theta_{4} \\right)} - 6 \\sin{\\left(\\theta_{3} + \\theta_{4} \\right)} \\cos{\\left(\\theta_{2} \\right)}\\\\- 6 \\sin{\\left(\\theta_{2} \\right)} \\sin{\\left(\\theta_{3} + \\theta_{4} \\right)} + 3 \\sqrt{2} \\cos{\\left(\\theta_{2} \\right)} \\cos{\\left(\\theta_{3} + \\theta_{4} \\right)}\\\\3 \\sqrt{2} \\cos{\\left(\\theta_{3} + \\theta_{4} \\right)}\\end{matrix}\\right]$"
     },
     "metadata": {},
     "output_type": "display_data"
    },
    {
     "data": {
      "text/plain": "<IPython.core.display.Math object>",
      "text/latex": "$\\displaystyle {}^1n_1 = \\left[\\begin{matrix}\\frac{\\left(- 7 \\sqrt{2} \\sin{\\left(\\theta_{3} + \\theta_{4} \\right)} + 12 \\sin{\\left(\\theta_{3} + \\theta_{4} \\right)} + 12 \\cos{\\left(\\theta_{4} \\right)} + 8 \\sqrt{2}\\right) \\sin{\\left(\\theta_{2} \\right)}}{2} + \\left(7 - 6 \\sqrt{2}\\right) \\cos{\\left(\\theta_{2} \\right)} \\cos{\\left(\\theta_{3} + \\theta_{4} \\right)}\\\\- \\frac{\\left(- 7 \\sqrt{2} \\sin{\\left(\\theta_{3} + \\theta_{4} \\right)} + 12 \\sin{\\left(\\theta_{3} + \\theta_{4} \\right)} + 12 \\cos{\\left(\\theta_{4} \\right)} + 8 \\sqrt{2}\\right) \\cos{\\left(\\theta_{2} \\right)}}{2} + \\left(7 - 6 \\sqrt{2}\\right) \\sin{\\left(\\theta_{2} \\right)} \\cos{\\left(\\theta_{3} + \\theta_{4} \\right)} - 3 \\sqrt{2} \\cos{\\left(\\theta_{3} + \\theta_{4} \\right)}\\\\- 6 \\sin{\\left(\\theta_{2} \\right)} \\sin{\\left(\\theta_{3} + \\theta_{4} \\right)} - 6 \\sin{\\left(\\theta_{3} + \\theta_{4} \\right)} + \\frac{7 \\sqrt{2} \\sin{\\left(\\theta_{3} + \\theta_{4} \\right)}}{2} + 3 \\sqrt{2} \\cos{\\left(\\theta_{2} \\right)} \\cos{\\left(\\theta_{3} + \\theta_{4} \\right)} + 6 \\cos{\\left(\\theta_{4} \\right)} + 4 \\sqrt{2}\\end{matrix}\\right]$"
     },
     "metadata": {},
     "output_type": "display_data"
    }
   ],
   "source": [
    "prop_force_torque(dh_params, joint_points, sympy.Matrix([0, 6, 0, 7, 0, 8]))"
   ],
   "metadata": {
    "collapsed": false,
    "pycharm": {
     "name": "#%%\n"
    }
   }
  }
 ],
 "metadata": {
  "kernelspec": {
   "display_name": "Python 3",
   "language": "python",
   "name": "python3"
  },
  "language_info": {
   "codemirror_mode": {
    "name": "ipython",
    "version": 2
   },
   "file_extension": ".py",
   "mimetype": "text/x-python",
   "name": "python",
   "nbconvert_exporter": "python",
   "pygments_lexer": "ipython2",
   "version": "2.7.6"
  }
 },
 "nbformat": 4,
 "nbformat_minor": 0
}