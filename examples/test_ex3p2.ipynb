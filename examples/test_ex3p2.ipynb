{
 "cells": [
  {
   "cell_type": "code",
   "execution_count": 1,
   "metadata": {
    "collapsed": true
   },
   "outputs": [],
   "source": [
    "%load_ext autoreload\n",
    "%autoreload 2\n",
    "\n",
    "import utils\n",
    "from sympy import sqrt\n",
    "import sympy as sy"
   ]
  },
  {
   "cell_type": "markdown",
   "source": [
    "# Exercise 3 Problem 2"
   ],
   "metadata": {
    "collapsed": false,
    "pycharm": {
     "name": "#%% md\n"
    }
   }
  },
  {
   "cell_type": "code",
   "execution_count": 2,
   "outputs": [],
   "source": [
    "dh_params = [\n",
    "    [0, 0, 0, \"theta_1\"],\n",
    "    [90, \"l_1\", 0, \"theta_2\"],\n",
    "    [0, \"l_2\", 0, \"theta_3\"],\n",
    "    [0, \"l_3\", 0, 0]\n",
    "]\n",
    "\n",
    "joint_points = [\n",
    "    sy.Matrix([0, 0, 0]),\n",
    "    sy.Matrix([sy.Symbol(\"l_1\"), 0, 0]),\n",
    "    sy.Matrix([sy.Symbol(\"l_2\"), 0, 0]),\n",
    "    sy.Matrix([sy.Symbol(\"l_3\"), 0, 0]),\n",
    "]"
   ],
   "metadata": {
    "collapsed": false,
    "pycharm": {
     "name": "#%%\n"
    }
   }
  },
  {
   "cell_type": "code",
   "execution_count": 3,
   "outputs": [
    {
     "data": {
      "text/plain": "<IPython.core.display.Math object>",
      "text/latex": "$\\displaystyle {}^1v_1 = \\left[\\begin{matrix}0\\\\0\\\\0\\end{matrix}\\right]$"
     },
     "metadata": {},
     "output_type": "display_data"
    },
    {
     "data": {
      "text/plain": "<IPython.core.display.Math object>",
      "text/latex": "$\\displaystyle {}^1\\omega_1 = \\left[\\begin{matrix}0\\\\0\\\\\\dot\\theta_{1}\\end{matrix}\\right]$"
     },
     "metadata": {},
     "output_type": "display_data"
    },
    {
     "data": {
      "text/plain": "<IPython.core.display.Math object>",
      "text/latex": "$\\displaystyle {}^2v_2 = \\left[\\begin{matrix}0\\\\0\\\\- \\dot\\theta_{1} l_{1}\\end{matrix}\\right]$"
     },
     "metadata": {},
     "output_type": "display_data"
    },
    {
     "data": {
      "text/plain": "<IPython.core.display.Math object>",
      "text/latex": "$\\displaystyle {}^2\\omega_2 = \\left[\\begin{matrix}\\dot\\theta_{1} \\sin{\\left(\\theta_{2} \\right)}\\\\\\dot\\theta_{1} \\cos{\\left(\\theta_{2} \\right)}\\\\\\dot\\theta_{2}\\end{matrix}\\right]$"
     },
     "metadata": {},
     "output_type": "display_data"
    },
    {
     "data": {
      "text/plain": "<IPython.core.display.Math object>",
      "text/latex": "$\\displaystyle {}^3v_3 = \\left[\\begin{matrix}\\dot\\theta_{2} l_{2} \\sin{\\left(\\theta_{3} \\right)}\\\\\\dot\\theta_{2} l_{2} \\cos{\\left(\\theta_{3} \\right)}\\\\- \\dot\\theta_{1} \\left(l_{1} + l_{2} \\cos{\\left(\\theta_{2} \\right)}\\right)\\end{matrix}\\right]$"
     },
     "metadata": {},
     "output_type": "display_data"
    },
    {
     "data": {
      "text/plain": "<IPython.core.display.Math object>",
      "text/latex": "$\\displaystyle {}^3\\omega_3 = \\left[\\begin{matrix}\\dot\\theta_{1} \\sin{\\left(\\theta_{2} + \\theta_{3} \\right)}\\\\\\dot\\theta_{1} \\cos{\\left(\\theta_{2} + \\theta_{3} \\right)}\\\\\\dot\\theta_{2} + \\dot\\theta_{3}\\end{matrix}\\right]$"
     },
     "metadata": {},
     "output_type": "display_data"
    },
    {
     "data": {
      "text/plain": "<IPython.core.display.Math object>",
      "text/latex": "$\\displaystyle {}^4v_4 = \\left[\\begin{matrix}\\dot\\theta_{2} l_{2} \\sin{\\left(\\theta_{3} \\right)}\\\\\\dot\\theta_{2} l_{2} \\cos{\\left(\\theta_{3} \\right)} + l_{3} \\left(\\dot\\theta_{2} + \\dot\\theta_{3}\\right)\\\\- \\dot\\theta_{1} \\left(l_{1} + l_{2} \\cos{\\left(\\theta_{2} \\right)} + l_{3} \\cos{\\left(\\theta_{2} + \\theta_{3} \\right)}\\right)\\end{matrix}\\right]$"
     },
     "metadata": {},
     "output_type": "display_data"
    },
    {
     "data": {
      "text/plain": "<IPython.core.display.Math object>",
      "text/latex": "$\\displaystyle {}^4\\omega_4 = \\left[\\begin{matrix}\\dot\\theta_{1} \\sin{\\left(\\theta_{2} + \\theta_{3} \\right)}\\\\\\dot\\theta_{1} \\cos{\\left(\\theta_{2} + \\theta_{3} \\right)}\\\\\\dot\\theta_{2} + \\dot\\theta_{3}\\end{matrix}\\right]$"
     },
     "metadata": {},
     "output_type": "display_data"
    },
    {
     "data": {
      "text/plain": "<IPython.core.display.Math object>",
      "text/latex": "$\\displaystyle {}^4J = \\left[\\begin{matrix}0 & l_{2} \\sin{\\left(\\theta_{3} \\right)} & 0\\\\0 & l_{2} \\cos{\\left(\\theta_{3} \\right)} + l_{3} & l_{3}\\\\- l_{1} - l_{2} \\cos{\\left(\\theta_{2} \\right)} - l_{3} \\cos{\\left(\\theta_{2} + \\theta_{3} \\right)} & 0 & 0\\\\\\sin{\\left(\\theta_{2} + \\theta_{3} \\right)} & 0 & 0\\\\\\cos{\\left(\\theta_{2} + \\theta_{3} \\right)} & 0 & 0\\\\0 & 1 & 1\\end{matrix}\\right]$"
     },
     "metadata": {},
     "output_type": "display_data"
    }
   ],
   "source": [
    "J = utils.comp_jacobian(dh_params, joint_points)"
   ],
   "metadata": {
    "collapsed": false,
    "pycharm": {
     "name": "#%%\n"
    }
   }
  },
  {
   "cell_type": "code",
   "execution_count": 14,
   "outputs": [
    {
     "data": {
      "text/plain": "<IPython.core.display.Math object>",
      "text/latex": "$\\displaystyle {}^0_2T = \\left[\\begin{matrix}\\cos{\\left(\\theta_{1} \\right)} \\cos{\\left(\\theta_{2} \\right)} & - \\sin{\\left(\\theta_{2} \\right)} \\cos{\\left(\\theta_{1} \\right)} & \\sin{\\left(\\theta_{1} \\right)} & l_{1} \\cos{\\left(\\theta_{1} \\right)}\\\\\\sin{\\left(\\theta_{1} \\right)} \\cos{\\left(\\theta_{2} \\right)} & - \\sin{\\left(\\theta_{1} \\right)} \\sin{\\left(\\theta_{2} \\right)} & - \\cos{\\left(\\theta_{1} \\right)} & l_{1} \\sin{\\left(\\theta_{1} \\right)}\\\\\\sin{\\left(\\theta_{2} \\right)} & \\cos{\\left(\\theta_{2} \\right)} & 0 & 0\\\\0 & 0 & 0 & 1\\end{matrix}\\right]$"
     },
     "metadata": {},
     "output_type": "display_data"
    },
    {
     "data": {
      "text/plain": "<IPython.core.display.Math object>",
      "text/latex": "$\\displaystyle {}^0_3T = \\left[\\begin{matrix}\\cos{\\left(\\theta_{1} \\right)} \\cos{\\left(\\theta_{2} + \\theta_{3} \\right)} & - \\sin{\\left(\\theta_{2} + \\theta_{3} \\right)} \\cos{\\left(\\theta_{1} \\right)} & \\sin{\\left(\\theta_{1} \\right)} & \\left(l_{1} + l_{2} \\cos{\\left(\\theta_{2} \\right)}\\right) \\cos{\\left(\\theta_{1} \\right)}\\\\\\sin{\\left(\\theta_{1} \\right)} \\cos{\\left(\\theta_{2} + \\theta_{3} \\right)} & - \\sin{\\left(\\theta_{1} \\right)} \\sin{\\left(\\theta_{2} + \\theta_{3} \\right)} & - \\cos{\\left(\\theta_{1} \\right)} & \\left(l_{1} + l_{2} \\cos{\\left(\\theta_{2} \\right)}\\right) \\sin{\\left(\\theta_{1} \\right)}\\\\\\sin{\\left(\\theta_{2} + \\theta_{3} \\right)} & \\cos{\\left(\\theta_{2} + \\theta_{3} \\right)} & 0 & l_{2} \\sin{\\left(\\theta_{2} \\right)}\\\\0 & 0 & 0 & 1\\end{matrix}\\right]$"
     },
     "metadata": {},
     "output_type": "display_data"
    },
    {
     "data": {
      "text/plain": "<IPython.core.display.Math object>",
      "text/latex": "$\\displaystyle {}^0_4T = \\left[\\begin{matrix}\\cos{\\left(\\theta_{1} \\right)} \\cos{\\left(\\theta_{2} + \\theta_{3} \\right)} & - \\sin{\\left(\\theta_{2} + \\theta_{3} \\right)} \\cos{\\left(\\theta_{1} \\right)} & \\sin{\\left(\\theta_{1} \\right)} & \\left(l_{1} + l_{2} \\cos{\\left(\\theta_{2} \\right)} + l_{3} \\cos{\\left(\\theta_{2} + \\theta_{3} \\right)}\\right) \\cos{\\left(\\theta_{1} \\right)}\\\\\\sin{\\left(\\theta_{1} \\right)} \\cos{\\left(\\theta_{2} + \\theta_{3} \\right)} & - \\sin{\\left(\\theta_{1} \\right)} \\sin{\\left(\\theta_{2} + \\theta_{3} \\right)} & - \\cos{\\left(\\theta_{1} \\right)} & \\left(l_{1} + l_{2} \\cos{\\left(\\theta_{2} \\right)} + l_{3} \\cos{\\left(\\theta_{2} + \\theta_{3} \\right)}\\right) \\sin{\\left(\\theta_{1} \\right)}\\\\\\sin{\\left(\\theta_{2} + \\theta_{3} \\right)} & \\cos{\\left(\\theta_{2} + \\theta_{3} \\right)} & 0 & l_{2} \\sin{\\left(\\theta_{2} \\right)} + l_{3} \\sin{\\left(\\theta_{2} + \\theta_{3} \\right)}\\\\0 & 0 & 0 & 1\\end{matrix}\\right]$"
     },
     "metadata": {},
     "output_type": "display_data"
    }
   ],
   "source": [
    "transf = utils.full_homo_transf(utils.build_transf(dh_params, verbose=False))"
   ],
   "metadata": {
    "collapsed": false,
    "pycharm": {
     "name": "#%%\n"
    }
   }
  },
  {
   "cell_type": "code",
   "execution_count": null,
   "outputs": [],
   "source": [],
   "metadata": {
    "collapsed": false,
    "pycharm": {
     "name": "#%%\n"
    }
   }
  }
 ],
 "metadata": {
  "kernelspec": {
   "display_name": "Python 3",
   "language": "python",
   "name": "python3"
  },
  "language_info": {
   "codemirror_mode": {
    "name": "ipython",
    "version": 2
   },
   "file_extension": ".py",
   "mimetype": "text/x-python",
   "name": "python",
   "nbconvert_exporter": "python",
   "pygments_lexer": "ipython2",
   "version": "2.7.6"
  }
 },
 "nbformat": 4,
 "nbformat_minor": 0
}