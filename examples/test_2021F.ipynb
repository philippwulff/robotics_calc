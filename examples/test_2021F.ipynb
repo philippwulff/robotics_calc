{
 "cells": [
  {
   "cell_type": "code",
   "execution_count": 33,
   "metadata": {
    "collapsed": true
   },
   "outputs": [
    {
     "name": "stdout",
     "output_type": "stream",
     "text": [
      "The autoreload extension is already loaded. To reload it, use:\n",
      "  %reload_ext autoreload\n"
     ]
    }
   ],
   "source": [
    "import utils\n",
    "%load_ext autoreload\n",
    "%autoreload 2\n",
    "\n",
    "from utils import build_transf, full_homo_transf, prop_velo, prop_force_torque, comp_jacobian\n",
    "import utils\n",
    "from sympy import sqrt\n",
    "import sympy as sy\n",
    "from IPython.display import display, Math"
   ]
  },
  {
   "cell_type": "markdown",
   "source": [
    "# Final 20/21 Problem 3\n",
    "\n",
    "Denavit-Hartenberg Parameters are from problem 3a)."
   ],
   "metadata": {
    "collapsed": false,
    "pycharm": {
     "name": "#%% md\n"
    }
   }
  },
  {
   "cell_type": "code",
   "execution_count": 6,
   "outputs": [],
   "source": [
    "dh_params = [\n",
    "    [90, 0, \"d_1\", 0],\n",
    "    [90, 0, sy.Symbol(\"l_1\")+sy.Symbol(\"d_3\"), \"theta_2\"],\n",
    "    [0, \"l_2\", 0, 0],\n",
    "    [0, 0, 0, 0]\n",
    "]\n",
    "\n",
    "pc1_0 = sy.Matrix([0, -2/3 * sy.Symbol(\"d_1\")])\n",
    "pc2_0 = sy.Matrix([1/2 * sy.Symbol(\"l_2\") * sy.cos(sy.Symbol(\"theta_2\")),\n",
    "                   -sy.Symbol(\"d_1\") -1/2 * sy.Symbol(\"l_2\") * sy.sin(sy.Symbol(\"theta_2\")),\n",
    "                   -sy.Symbol(\"l_1\")])\n",
    "pc3_0 = sy.Matrix([sy.Symbol(\"l_2\") * sy.cos(sy.Symbol(\"theta_2\")),\n",
    "                   -sy.Symbol(\"d_1\") - sy.Symbol(\"l_2\") * sy.sin(sy.Symbol(\"theta_2\")),\n",
    "                   -sy.Symbol(\"l_1\") -1/2 * sy.Symbol(\"d_3\")])"
   ],
   "metadata": {
    "collapsed": false,
    "pycharm": {
     "name": "#%%\n"
    }
   }
  },
  {
   "cell_type": "code",
   "execution_count": 34,
   "outputs": [
    {
     "data": {
      "text/plain": "<IPython.core.display.Math object>",
      "text/latex": "$\\displaystyle {}^0_1T = \\left[\\begin{matrix}1 & 0 & 0 & 0\\\\0 & 0 & -1 & - d_{1}\\\\0 & 1 & 0 & 0\\\\0 & 0 & 0 & 1\\end{matrix}\\right]$"
     },
     "metadata": {},
     "output_type": "display_data"
    },
    {
     "data": {
      "text/plain": "<IPython.core.display.Math object>",
      "text/latex": "$\\displaystyle {}^1_2T = \\left[\\begin{matrix}\\cos{\\left(\\theta_{2} \\right)} & - \\sin{\\left(\\theta_{2} \\right)} & 0 & 0\\\\0 & 0 & -1 & - d_{3} - l_{1}\\\\\\sin{\\left(\\theta_{2} \\right)} & \\cos{\\left(\\theta_{2} \\right)} & 0 & 0\\\\0 & 0 & 0 & 1\\end{matrix}\\right]$"
     },
     "metadata": {},
     "output_type": "display_data"
    },
    {
     "data": {
      "text/plain": "<IPython.core.display.Math object>",
      "text/latex": "$\\displaystyle {}^2_3T = \\left[\\begin{matrix}1 & 0 & 0 & l_{2}\\\\0 & 1 & 0 & 0\\\\0 & 0 & 1 & 0\\\\0 & 0 & 0 & 1\\end{matrix}\\right]$"
     },
     "metadata": {},
     "output_type": "display_data"
    },
    {
     "data": {
      "text/plain": "<IPython.core.display.Math object>",
      "text/latex": "$\\displaystyle {}^3_4T = \\left[\\begin{matrix}1 & 0 & 0 & 0\\\\0 & 1 & 0 & 0\\\\0 & 0 & 1 & 0\\\\0 & 0 & 0 & 1\\end{matrix}\\right]$"
     },
     "metadata": {},
     "output_type": "display_data"
    }
   ],
   "source": [
    "transforms = utils.build_transf(dh_params)\n",
    "full_transform = full_homo_transf(transforms, verbose=False)"
   ],
   "metadata": {
    "collapsed": false,
    "pycharm": {
     "name": "#%%\n"
    }
   }
  },
  {
   "cell_type": "code",
   "execution_count": 49,
   "outputs": [
    {
     "data": {
      "text/plain": "<IPython.core.display.Math object>",
      "text/latex": "$\\displaystyle \\left[\\begin{matrix}\\cos{\\left(\\theta_{2} \\right)} & - \\sin{\\left(\\theta_{2} \\right)} & 0 & 0\\\\- \\sin{\\left(\\theta_{2} \\right)} & - \\cos{\\left(\\theta_{2} \\right)} & 0 & - d_{1}\\\\0 & 0 & -1 & - d_{3} - l_{1}\\\\0 & 0 & 0 & 1\\end{matrix}\\right]$"
     },
     "metadata": {},
     "output_type": "display_data"
    },
    {
     "data": {
      "text/plain": "<IPython.core.display.Math object>",
      "text/latex": "$\\displaystyle \\left[\\begin{matrix}\\cos{\\left(\\theta_{2} \\right)} & - \\sin{\\left(\\theta_{2} \\right)} & 0 & l_{2} \\cos{\\left(\\theta_{2} \\right)}\\\\- \\sin{\\left(\\theta_{2} \\right)} & - \\cos{\\left(\\theta_{2} \\right)} & 0 & - d_{1} - l_{2} \\sin{\\left(\\theta_{2} \\right)}\\\\0 & 0 & -1 & - d_{3} - l_{1}\\\\0 & 0 & 0 & 1\\end{matrix}\\right]$"
     },
     "metadata": {},
     "output_type": "display_data"
    },
    {
     "data": {
      "text/plain": "<IPython.core.display.Math object>",
      "text/latex": "$\\displaystyle \\left[\\begin{matrix}\\cos{\\left(\\theta_{2} \\right)} & - \\sin{\\left(\\theta_{2} \\right)} & 0 & l_{2} \\cos{\\left(\\theta_{2} \\right)}\\\\- \\sin{\\left(\\theta_{2} \\right)} & - \\cos{\\left(\\theta_{2} \\right)} & 0 & - d_{1} - l_{2} \\sin{\\left(\\theta_{2} \\right)}\\\\0 & 0 & -1 & - d_{3} - l_{1}\\\\0 & 0 & 0 & 1\\end{matrix}\\right]$"
     },
     "metadata": {},
     "output_type": "display_data"
    }
   ],
   "source": [
    "T02 = transforms[0] @ transforms[1]\n",
    "T03 = T02 @ transforms[2]\n",
    "T04 = T03 @ transforms[3]\n",
    "for t in (T02, T03, T04):\n",
    "    display(Math(sy.latex(t)))"
   ],
   "metadata": {
    "collapsed": false,
    "pycharm": {
     "name": "#%%\n"
    }
   }
  },
  {
   "cell_type": "code",
   "execution_count": 59,
   "outputs": [
    {
     "data": {
      "text/plain": "<IPython.core.display.Math object>",
      "text/latex": "$\\displaystyle \\left[\\begin{matrix}\\cos{\\left(\\theta_{2} \\right)} & - \\sin{\\left(\\theta_{2} \\right)} & 0 & - d_{1} \\sin{\\left(\\theta_{2} \\right)}\\\\- \\sin{\\left(\\theta_{2} \\right)} & - \\cos{\\left(\\theta_{2} \\right)} & 0 & - d_{1} \\cos{\\left(\\theta_{2} \\right)}\\\\0 & 0 & -1 & - d_{3} - l_{1}\\\\0 & 0 & 0 & 1\\end{matrix}\\right]$"
     },
     "metadata": {},
     "output_type": "display_data"
    },
    {
     "data": {
      "text/plain": "<IPython.core.display.Math object>",
      "text/latex": "$\\displaystyle \\left[\\begin{matrix}\\cos{\\left(\\theta_{2} \\right)} & - \\sin{\\left(\\theta_{2} \\right)} & 0 & - d_{1} \\sin{\\left(\\theta_{2} \\right)} - l_{2}\\\\- \\sin{\\left(\\theta_{2} \\right)} & - \\cos{\\left(\\theta_{2} \\right)} & 0 & - d_{1} \\cos{\\left(\\theta_{2} \\right)}\\\\0 & 0 & -1 & - d_{3} - l_{1}\\\\0 & 0 & 0 & 1\\end{matrix}\\right]$"
     },
     "metadata": {},
     "output_type": "display_data"
    },
    {
     "data": {
      "text/plain": "<IPython.core.display.Math object>",
      "text/latex": "$\\displaystyle \\left[\\begin{matrix}\\cos{\\left(\\theta_{2} \\right)} & - \\sin{\\left(\\theta_{2} \\right)} & 0 & - d_{1} \\sin{\\left(\\theta_{2} \\right)} - l_{2}\\\\- \\sin{\\left(\\theta_{2} \\right)} & - \\cos{\\left(\\theta_{2} \\right)} & 0 & - d_{1} \\cos{\\left(\\theta_{2} \\right)}\\\\0 & 0 & -1 & - d_{3} - l_{1}\\\\0 & 0 & 0 & 1\\end{matrix}\\right]$"
     },
     "metadata": {},
     "output_type": "display_data"
    }
   ],
   "source": [
    "for t in (T02, T03, T04):\n",
    "    display(Math(sy.latex(utils.homo_transpose(t))))"
   ],
   "metadata": {
    "collapsed": false,
    "pycharm": {
     "name": "#%%\n"
    }
   }
  }
 ],
 "metadata": {
  "kernelspec": {
   "display_name": "Python 3",
   "language": "python",
   "name": "python3"
  },
  "language_info": {
   "codemirror_mode": {
    "name": "ipython",
    "version": 2
   },
   "file_extension": ".py",
   "mimetype": "text/x-python",
   "name": "python",
   "nbconvert_exporter": "python",
   "pygments_lexer": "ipython2",
   "version": "2.7.6"
  }
 },
 "nbformat": 4,
 "nbformat_minor": 0
}