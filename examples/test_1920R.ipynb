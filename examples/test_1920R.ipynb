{
 "cells": [
  {
   "cell_type": "code",
   "execution_count": 1,
   "metadata": {
    "collapsed": true
   },
   "outputs": [],
   "source": [
    "import utils\n",
    "%load_ext autoreload\n",
    "%autoreload 2\n",
    "\n",
    "from utils import build_transf, full_homo_transf, prop_velo, prop_force_torque, comp_jacobian\n",
    "import utils\n",
    "from sympy import sqrt\n",
    "import sympy as sy"
   ]
  },
  {
   "cell_type": "markdown",
   "source": [
    "# Retake 19/20 Problem 2\n",
    "\n",
    "Denavit-Hartenberg Parameters are from problem 2a)."
   ],
   "metadata": {
    "collapsed": false,
    "pycharm": {
     "name": "#%% md\n"
    }
   }
  },
  {
   "cell_type": "code",
   "execution_count": 10,
   "outputs": [],
   "source": [
    "dh_params = [[0, 0, \"n_1\", \"theta_1\"],\n",
    "             [-90, \"a_1\", \"n_2\", \"theta_2\"],\n",
    "             [0, \"a_2\", \"n_3\", \"theta_3\"],\n",
    "             [-90, \"a_3\", \"n_4\", \"theta_4\"],\n",
    "             [90, 0, 0, \"theta_5\"],\n",
    "             [-90, 0, 0, \"theta_6\"],\n",
    "            ]"
   ],
   "metadata": {
    "collapsed": false,
    "pycharm": {
     "name": "#%%\n"
    }
   }
  },
  {
   "cell_type": "code",
   "execution_count": 11,
   "outputs": [
    {
     "data": {
      "text/plain": "<IPython.core.display.Math object>",
      "text/latex": "$\\displaystyle {}^0_2T = \\left[\\begin{matrix}\\cos{\\left(\\theta_{1} \\right)} \\cos{\\left(\\theta_{2} \\right)} & - \\sin{\\left(\\theta_{2} \\right)} \\cos{\\left(\\theta_{1} \\right)} & - \\sin{\\left(\\theta_{1} \\right)} & a_{1} \\cos{\\left(\\theta_{1} \\right)} - n_{2} \\sin{\\left(\\theta_{1} \\right)}\\\\\\sin{\\left(\\theta_{1} \\right)} \\cos{\\left(\\theta_{2} \\right)} & - \\sin{\\left(\\theta_{1} \\right)} \\sin{\\left(\\theta_{2} \\right)} & \\cos{\\left(\\theta_{1} \\right)} & a_{1} \\sin{\\left(\\theta_{1} \\right)} + n_{2} \\cos{\\left(\\theta_{1} \\right)}\\\\- \\sin{\\left(\\theta_{2} \\right)} & - \\cos{\\left(\\theta_{2} \\right)} & 0 & n_{1}\\\\0 & 0 & 0 & 1\\end{matrix}\\right]$"
     },
     "metadata": {},
     "output_type": "display_data"
    },
    {
     "data": {
      "text/plain": "<IPython.core.display.Math object>",
      "text/latex": "$\\displaystyle {}^0_3T = \\left[\\begin{matrix}\\cos{\\left(\\theta_{1} \\right)} \\cos{\\left(\\theta_{2} + \\theta_{3} \\right)} & - \\sin{\\left(\\theta_{2} + \\theta_{3} \\right)} \\cos{\\left(\\theta_{1} \\right)} & - \\sin{\\left(\\theta_{1} \\right)} & a_{1} \\cos{\\left(\\theta_{1} \\right)} + a_{2} \\cos{\\left(\\theta_{1} \\right)} \\cos{\\left(\\theta_{2} \\right)} - n_{2} \\sin{\\left(\\theta_{1} \\right)} - n_{3} \\sin{\\left(\\theta_{1} \\right)}\\\\\\sin{\\left(\\theta_{1} \\right)} \\cos{\\left(\\theta_{2} + \\theta_{3} \\right)} & - \\sin{\\left(\\theta_{1} \\right)} \\sin{\\left(\\theta_{2} + \\theta_{3} \\right)} & \\cos{\\left(\\theta_{1} \\right)} & a_{1} \\sin{\\left(\\theta_{1} \\right)} + a_{2} \\sin{\\left(\\theta_{1} \\right)} \\cos{\\left(\\theta_{2} \\right)} + n_{2} \\cos{\\left(\\theta_{1} \\right)} + n_{3} \\cos{\\left(\\theta_{1} \\right)}\\\\- \\sin{\\left(\\theta_{2} + \\theta_{3} \\right)} & - \\cos{\\left(\\theta_{2} + \\theta_{3} \\right)} & 0 & - a_{2} \\sin{\\left(\\theta_{2} \\right)} + n_{1}\\\\0 & 0 & 0 & 1\\end{matrix}\\right]$"
     },
     "metadata": {},
     "output_type": "display_data"
    },
    {
     "data": {
      "text/plain": "<IPython.core.display.Math object>",
      "text/latex": "$\\displaystyle {}^0_4T = \\left[\\begin{matrix}\\sin{\\left(\\theta_{1} \\right)} \\sin{\\left(\\theta_{4} \\right)} + \\cos{\\left(\\theta_{1} \\right)} \\cos{\\left(\\theta_{4} \\right)} \\cos{\\left(\\theta_{2} + \\theta_{3} \\right)} & \\sin{\\left(\\theta_{1} \\right)} \\cos{\\left(\\theta_{4} \\right)} - \\sin{\\left(\\theta_{4} \\right)} \\cos{\\left(\\theta_{1} \\right)} \\cos{\\left(\\theta_{2} + \\theta_{3} \\right)} & - \\sin{\\left(\\theta_{2} + \\theta_{3} \\right)} \\cos{\\left(\\theta_{1} \\right)} & a_{1} \\cos{\\left(\\theta_{1} \\right)} + a_{2} \\cos{\\left(\\theta_{1} \\right)} \\cos{\\left(\\theta_{2} \\right)} + a_{3} \\cos{\\left(\\theta_{1} \\right)} \\cos{\\left(\\theta_{2} + \\theta_{3} \\right)} - n_{2} \\sin{\\left(\\theta_{1} \\right)} - n_{3} \\sin{\\left(\\theta_{1} \\right)} - n_{4} \\sin{\\left(\\theta_{2} + \\theta_{3} \\right)} \\cos{\\left(\\theta_{1} \\right)}\\\\\\sin{\\left(\\theta_{1} \\right)} \\cos{\\left(\\theta_{4} \\right)} \\cos{\\left(\\theta_{2} + \\theta_{3} \\right)} - \\sin{\\left(\\theta_{4} \\right)} \\cos{\\left(\\theta_{1} \\right)} & - \\sin{\\left(\\theta_{1} \\right)} \\sin{\\left(\\theta_{4} \\right)} \\cos{\\left(\\theta_{2} + \\theta_{3} \\right)} - \\cos{\\left(\\theta_{1} \\right)} \\cos{\\left(\\theta_{4} \\right)} & - \\sin{\\left(\\theta_{1} \\right)} \\sin{\\left(\\theta_{2} + \\theta_{3} \\right)} & a_{1} \\sin{\\left(\\theta_{1} \\right)} + a_{2} \\sin{\\left(\\theta_{1} \\right)} \\cos{\\left(\\theta_{2} \\right)} + a_{3} \\sin{\\left(\\theta_{1} \\right)} \\cos{\\left(\\theta_{2} + \\theta_{3} \\right)} + n_{2} \\cos{\\left(\\theta_{1} \\right)} + n_{3} \\cos{\\left(\\theta_{1} \\right)} - n_{4} \\sin{\\left(\\theta_{1} \\right)} \\sin{\\left(\\theta_{2} + \\theta_{3} \\right)}\\\\- \\sin{\\left(\\theta_{2} + \\theta_{3} \\right)} \\cos{\\left(\\theta_{4} \\right)} & \\sin{\\left(\\theta_{4} \\right)} \\sin{\\left(\\theta_{2} + \\theta_{3} \\right)} & - \\cos{\\left(\\theta_{2} + \\theta_{3} \\right)} & - a_{2} \\sin{\\left(\\theta_{2} \\right)} - a_{3} \\sin{\\left(\\theta_{2} + \\theta_{3} \\right)} + n_{1} - n_{4} \\cos{\\left(\\theta_{2} + \\theta_{3} \\right)}\\\\0 & 0 & 0 & 1\\end{matrix}\\right]$"
     },
     "metadata": {},
     "output_type": "display_data"
    }
   ],
   "source": [
    "transforms = build_transf(dh_params, verbose=False)\n",
    "full_transform = full_homo_transf(transforms[:4])"
   ],
   "metadata": {
    "collapsed": false,
    "pycharm": {
     "name": "#%%\n"
    }
   }
  },
  {
   "cell_type": "markdown",
   "source": [
    "### 2e) Calculate the position of frame 4 in {0}"
   ],
   "metadata": {
    "collapsed": false,
    "pycharm": {
     "name": "#%% md\n"
    }
   }
  },
  {
   "cell_type": "code",
   "execution_count": 7,
   "outputs": [
    {
     "data": {
      "text/plain": "Matrix([\n[a_1*cos(theta_1) + a_2*cos(theta_1)*cos(theta_2) + a_3*cos(theta_1)*cos(theta_2 + theta_3) - d_2*sin(theta_1) - d_3*sin(theta_1) - d_4*sin(theta_2 + theta_3)*cos(theta_1)],\n[a_1*sin(theta_1) + a_2*sin(theta_1)*cos(theta_2) + a_3*sin(theta_1)*cos(theta_2 + theta_3) + d_2*cos(theta_1) + d_3*cos(theta_1) - d_4*sin(theta_1)*sin(theta_2 + theta_3)],\n[                                                                                         -a_2*sin(theta_2) - a_3*sin(theta_2 + theta_3) + d_1 - d_4*cos(theta_2 + theta_3)],\n[                                                                                                                                                                         1]])",
      "text/latex": "$\\displaystyle \\left[\\begin{matrix}a_{1} \\cos{\\left(\\theta_{1} \\right)} + a_{2} \\cos{\\left(\\theta_{1} \\right)} \\cos{\\left(\\theta_{2} \\right)} + a_{3} \\cos{\\left(\\theta_{1} \\right)} \\cos{\\left(\\theta_{2} + \\theta_{3} \\right)} - d_{2} \\sin{\\left(\\theta_{1} \\right)} - d_{3} \\sin{\\left(\\theta_{1} \\right)} - d_{4} \\sin{\\left(\\theta_{2} + \\theta_{3} \\right)} \\cos{\\left(\\theta_{1} \\right)}\\\\a_{1} \\sin{\\left(\\theta_{1} \\right)} + a_{2} \\sin{\\left(\\theta_{1} \\right)} \\cos{\\left(\\theta_{2} \\right)} + a_{3} \\sin{\\left(\\theta_{1} \\right)} \\cos{\\left(\\theta_{2} + \\theta_{3} \\right)} + d_{2} \\cos{\\left(\\theta_{1} \\right)} + d_{3} \\cos{\\left(\\theta_{1} \\right)} - d_{4} \\sin{\\left(\\theta_{1} \\right)} \\sin{\\left(\\theta_{2} + \\theta_{3} \\right)}\\\\- a_{2} \\sin{\\left(\\theta_{2} \\right)} - a_{3} \\sin{\\left(\\theta_{2} + \\theta_{3} \\right)} + d_{1} - d_{4} \\cos{\\left(\\theta_{2} + \\theta_{3} \\right)}\\\\1\\end{matrix}\\right]$"
     },
     "execution_count": 7,
     "metadata": {},
     "output_type": "execute_result"
    }
   ],
   "source": [
    "full_transform @ sy.Matrix([0, 0, 0, 1])"
   ],
   "metadata": {
    "collapsed": false,
    "pycharm": {
     "name": "#%%\n"
    }
   }
  },
  {
   "cell_type": "markdown",
   "source": [
    "### 2f) Propagate angular and linear velocities for frames i=1,2,3"
   ],
   "metadata": {
    "collapsed": false,
    "pycharm": {
     "name": "#%% md\n"
    }
   }
  },
  {
   "cell_type": "code",
   "execution_count": 13,
   "outputs": [
    {
     "data": {
      "text/plain": "<IPython.core.display.Math object>",
      "text/latex": "$\\displaystyle {}^1v_1 = \\left[\\begin{matrix}0\\\\0\\\\0\\end{matrix}\\right]$"
     },
     "metadata": {},
     "output_type": "display_data"
    },
    {
     "data": {
      "text/plain": "<IPython.core.display.Math object>",
      "text/latex": "$\\displaystyle {}^1\\omega_1 = \\left[\\begin{matrix}0\\\\0\\\\\\dot\\theta_{1}\\end{matrix}\\right]$"
     },
     "metadata": {},
     "output_type": "display_data"
    },
    {
     "data": {
      "text/plain": "<IPython.core.display.Math object>",
      "text/latex": "$\\displaystyle {}^2v_2 = \\left[\\begin{matrix}- \\dot\\theta_{1} n_{2} \\cos{\\left(\\theta_{2} \\right)}\\\\\\dot\\theta_{1} n_{2} \\sin{\\left(\\theta_{2} \\right)}\\\\\\dot\\theta_{1} a_{1}\\end{matrix}\\right]$"
     },
     "metadata": {},
     "output_type": "display_data"
    },
    {
     "data": {
      "text/plain": "<IPython.core.display.Math object>",
      "text/latex": "$\\displaystyle {}^2\\omega_2 = \\left[\\begin{matrix}- \\dot\\theta_{1} \\sin{\\left(\\theta_{2} \\right)}\\\\- \\dot\\theta_{1} \\cos{\\left(\\theta_{2} \\right)}\\\\\\dot\\theta_{2}\\end{matrix}\\right]$"
     },
     "metadata": {},
     "output_type": "display_data"
    },
    {
     "data": {
      "text/plain": "<IPython.core.display.Math object>",
      "text/latex": "$\\displaystyle {}^3v_3 = \\left[\\begin{matrix}- \\dot\\theta_{1} n_{2} \\cos{\\left(\\theta_{2} + \\theta_{3} \\right)} - \\dot\\theta_{1} n_{3} \\cos{\\left(\\theta_{2} + \\theta_{3} \\right)} + \\dot\\theta_{2} a_{2} \\sin{\\left(\\theta_{3} \\right)}\\\\\\dot\\theta_{1} n_{2} \\sin{\\left(\\theta_{2} + \\theta_{3} \\right)} + \\dot\\theta_{1} n_{3} \\sin{\\left(\\theta_{2} + \\theta_{3} \\right)} + \\dot\\theta_{2} a_{2} \\cos{\\left(\\theta_{3} \\right)}\\\\\\dot\\theta_{1} \\left(a_{1} + a_{2} \\cos{\\left(\\theta_{2} \\right)}\\right)\\end{matrix}\\right]$"
     },
     "metadata": {},
     "output_type": "display_data"
    },
    {
     "data": {
      "text/plain": "<IPython.core.display.Math object>",
      "text/latex": "$\\displaystyle {}^3\\omega_3 = \\left[\\begin{matrix}- \\dot\\theta_{1} \\sin{\\left(\\theta_{2} + \\theta_{3} \\right)}\\\\- \\dot\\theta_{1} \\cos{\\left(\\theta_{2} + \\theta_{3} \\right)}\\\\\\dot\\theta_{2} + \\dot\\theta_{3}\\end{matrix}\\right]$"
     },
     "metadata": {},
     "output_type": "display_data"
    }
   ],
   "source": [
    "joint_points = [\n",
    "    sy.Matrix([0, 0, 0]),\n",
    "    sy.Matrix([sy.Symbol(\"a_1\"), sy.Symbol(\"n_2\"), 0]),\n",
    "    sy.Matrix([sy.Symbol(\"a_2\"), 0, sy.Symbol(\"n_3\")]),\n",
    "]\n",
    "v, omega, joint_params = prop_velo(dh_params[:3], joint_points)"
   ],
   "metadata": {
    "collapsed": false,
    "pycharm": {
     "name": "#%%\n"
    }
   }
  },
  {
   "cell_type": "code",
   "execution_count": 17,
   "outputs": [
    {
     "data": {
      "text/plain": "<IPython.core.display.Math object>",
      "text/latex": "$\\displaystyle {}^3J = \\left[\\begin{matrix}- \\left(n_{2} + n_{3}\\right) \\cos{\\left(\\theta_{2} + \\theta_{3} \\right)} & a_{2} \\sin{\\left(\\theta_{3} \\right)} & 0\\\\\\left(n_{2} + n_{3}\\right) \\sin{\\left(\\theta_{2} + \\theta_{3} \\right)} & a_{2} \\cos{\\left(\\theta_{3} \\right)} & 0\\\\a_{1} + a_{2} \\cos{\\left(\\theta_{2} \\right)} & 0 & 0\\\\- \\sin{\\left(\\theta_{2} + \\theta_{3} \\right)} & 0 & 0\\\\- \\cos{\\left(\\theta_{2} + \\theta_{3} \\right)} & 0 & 0\\\\0 & 1 & 1\\end{matrix}\\right]$"
     },
     "metadata": {},
     "output_type": "display_data"
    }
   ],
   "source": [
    "J = comp_jacobian(dh_params[:3], joint_points, verbose=False)"
   ],
   "metadata": {
    "collapsed": false,
    "pycharm": {
     "name": "#%%\n"
    }
   }
  },
  {
   "cell_type": "code",
   "execution_count": null,
   "outputs": [],
   "source": [],
   "metadata": {
    "collapsed": false,
    "pycharm": {
     "name": "#%%\n"
    }
   }
  }
 ],
 "metadata": {
  "kernelspec": {
   "display_name": "Python 3",
   "language": "python",
   "name": "python3"
  },
  "language_info": {
   "codemirror_mode": {
    "name": "ipython",
    "version": 2
   },
   "file_extension": ".py",
   "mimetype": "text/x-python",
   "name": "python",
   "nbconvert_exporter": "python",
   "pygments_lexer": "ipython2",
   "version": "2.7.6"
  }
 },
 "nbformat": 4,
 "nbformat_minor": 0
}