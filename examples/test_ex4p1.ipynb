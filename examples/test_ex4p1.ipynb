{
 "cells": [
  {
   "cell_type": "code",
   "execution_count": 1,
   "metadata": {
    "collapsed": true
   },
   "outputs": [],
   "source": [
    "%load_ext autoreload\n",
    "%autoreload 2\n",
    "\n",
    "import utils\n",
    "from sympy import sqrt\n",
    "import sympy as sy"
   ]
  },
  {
   "cell_type": "markdown",
   "source": [
    "# Exercise 4 Problem 1"
   ],
   "metadata": {
    "collapsed": false,
    "pycharm": {
     "name": "#%% md\n"
    }
   }
  },
  {
   "cell_type": "code",
   "execution_count": 2,
   "outputs": [],
   "source": [
    "dh_params = [\n",
    "    [0, 0, 0, \"theta_1\"],\n",
    "    [-90, \"l_1\", \"d_2\", 0],\n",
    "]\n",
    "\n",
    "# Joint center in coordinate frame of previous joint\n",
    "joint_points = [\n",
    "    sy.Matrix([0, 0, 0]),\n",
    "    sy.Matrix([sy.Symbol(\"l_1\"), sy.Symbol(\"d_2\"), 0]),\n",
    "]\n",
    "\n",
    "# Center of mass of each link\n",
    "m_center_points = [\n",
    "    sy.Matrix([sy.Symbol(\"l_1\")/2, 0, 0]),\n",
    "    sy.Matrix([0, 0, sy.Symbol(\"l_2\")])\n",
    "]\n",
    "\n",
    "# Set acceleration at base to negative gravitational accel\n",
    "v_dot_0 = sy.Matrix([sy.Symbol(\"g\"), 0, 0])\n",
    "\n",
    "# Link mass\n",
    "link_m = [sy.Symbol(\"m_1\"), sy.Symbol(\"m_2\")]\n",
    "\n",
    "# Link inertia tensor\n",
    "link_I = [\n",
    "    sy.diag(sy.Symbol(\"I_{xx1}\"), sy.Symbol(\"I_{yy1}\"), sy.Symbol(\"I_{zz1}\")),\n",
    "    sy.diag(sy.Symbol(\"I_{xx2}\"), sy.Symbol(\"I_{yy2}\"), sy.Symbol(\"I_{zz2}\"))\n",
    "]"
   ],
   "metadata": {
    "collapsed": false,
    "pycharm": {
     "name": "#%%\n"
    }
   }
  },
  {
   "cell_type": "code",
   "execution_count": 26,
   "outputs": [
    {
     "name": "stdout",
     "output_type": "stream",
     "text": [
      "Forward phase:\n",
      "i = 0:\n"
     ]
    },
    {
     "data": {
      "text/plain": "<IPython.core.display.Math object>",
      "text/latex": "$\\displaystyle {}^1\\dot{v}_1 = \\left[\\begin{matrix}g \\cos{\\left(\\theta_{1} \\right)}\\\\- g \\sin{\\left(\\theta_{1} \\right)}\\\\0\\end{matrix}\\right]$"
     },
     "metadata": {},
     "output_type": "display_data"
    },
    {
     "data": {
      "text/plain": "<IPython.core.display.Math object>",
      "text/latex": "$\\displaystyle {}^1\\omega_1 = \\left[\\begin{matrix}0\\\\0\\\\\\dot\\theta_{1}\\end{matrix}\\right]$"
     },
     "metadata": {},
     "output_type": "display_data"
    },
    {
     "data": {
      "text/plain": "<IPython.core.display.Math object>",
      "text/latex": "$\\displaystyle {}^1\\dot{\\omega}_1 = \\left[\\begin{matrix}0\\\\0\\\\\\ddot\\theta_{1}\\end{matrix}\\right]$"
     },
     "metadata": {},
     "output_type": "display_data"
    },
    {
     "data": {
      "text/plain": "<IPython.core.display.Math object>",
      "text/latex": "$\\displaystyle {}^1\\dot{v}_{C_1} = \\left[\\begin{matrix}g \\cos{\\left(\\theta_{1} \\right)}\\\\- g \\sin{\\left(\\theta_{1} \\right)}\\\\0\\end{matrix}\\right]$"
     },
     "metadata": {},
     "output_type": "display_data"
    },
    {
     "data": {
      "text/plain": "<IPython.core.display.Math object>",
      "text/latex": "$\\displaystyle {}^1F_1 = \\left[\\begin{matrix}m_{1} \\left(- \\frac{\\dot\\theta_{1}^{2} l_{1}}{2} + g \\cos{\\left(\\theta_{1} \\right)}\\right)\\\\m_{1} \\left(\\frac{\\ddot\\theta_{1} l_{1}}{2} - g \\sin{\\left(\\theta_{1} \\right)}\\right)\\\\0\\end{matrix}\\right]$"
     },
     "metadata": {},
     "output_type": "display_data"
    },
    {
     "data": {
      "text/plain": "<IPython.core.display.Math object>",
      "text/latex": "$\\displaystyle {}^1N_1 = \\left[\\begin{matrix}0\\\\0\\\\I_{zz1} \\ddot\\theta_{1}\\end{matrix}\\right]$"
     },
     "metadata": {},
     "output_type": "display_data"
    },
    {
     "name": "stdout",
     "output_type": "stream",
     "text": [
      "i = 1:\n"
     ]
    },
    {
     "data": {
      "text/plain": "<IPython.core.display.Math object>",
      "text/latex": "$\\displaystyle {}^2\\dot{v}_2 = \\left[\\begin{matrix}- \\ddot\\theta_{1} d_{2} - \\dot\\theta_{1}^{2} l_{1} - 2 \\dot\\theta_{1} \\dot{d_2} + g \\cos{\\left(\\theta_{1} \\right)}\\\\0\\\\\\ddot\\theta_{1} l_{1} + \\ddot{d_2} - \\dot\\theta_{1}^{2} d_{2} - g \\sin{\\left(\\theta_{1} \\right)}\\end{matrix}\\right]$"
     },
     "metadata": {},
     "output_type": "display_data"
    },
    {
     "data": {
      "text/plain": "<IPython.core.display.Math object>",
      "text/latex": "$\\displaystyle {}^2\\omega_2 = \\left[\\begin{matrix}0\\\\- \\dot\\theta_{1}\\\\0\\end{matrix}\\right]$"
     },
     "metadata": {},
     "output_type": "display_data"
    },
    {
     "data": {
      "text/plain": "<IPython.core.display.Math object>",
      "text/latex": "$\\displaystyle {}^2\\dot{\\omega}_2 = \\left[\\begin{matrix}0\\\\- \\ddot\\theta_{1}\\\\0\\end{matrix}\\right]$"
     },
     "metadata": {},
     "output_type": "display_data"
    },
    {
     "data": {
      "text/plain": "<IPython.core.display.Math object>",
      "text/latex": "$\\displaystyle {}^2\\dot{v}_{C_2} = \\left[\\begin{matrix}- \\ddot\\theta_{1} d_{2} - \\dot\\theta_{1}^{2} l_{1} - 2 \\dot\\theta_{1} \\dot{d_2} + g \\cos{\\left(\\theta_{1} \\right)}\\\\0\\\\\\ddot\\theta_{1} l_{1} + \\ddot{d_2} - \\dot\\theta_{1}^{2} d_{2} - g \\sin{\\left(\\theta_{1} \\right)}\\end{matrix}\\right]$"
     },
     "metadata": {},
     "output_type": "display_data"
    },
    {
     "data": {
      "text/plain": "<IPython.core.display.Math object>",
      "text/latex": "$\\displaystyle {}^2F_2 = \\left[\\begin{matrix}m_{2} \\left(- \\ddot\\theta_{1} d_{2} - \\ddot\\theta_{1} l_{2} - \\dot\\theta_{1}^{2} l_{1} - 2 \\dot\\theta_{1} \\dot{d_2} + g \\cos{\\left(\\theta_{1} \\right)}\\right)\\\\0\\\\m_{2} \\left(\\ddot\\theta_{1} l_{1} + \\ddot{d_2} - \\dot\\theta_{1}^{2} d_{2} - \\dot\\theta_{1}^{2} l_{2} - g \\sin{\\left(\\theta_{1} \\right)}\\right)\\end{matrix}\\right]$"
     },
     "metadata": {},
     "output_type": "display_data"
    },
    {
     "data": {
      "text/plain": "<IPython.core.display.Math object>",
      "text/latex": "$\\displaystyle {}^2N_2 = \\left[\\begin{matrix}0\\\\- I_{yy2} \\ddot\\theta_{1}\\\\0\\end{matrix}\\right]$"
     },
     "metadata": {},
     "output_type": "display_data"
    },
    {
     "name": "stdout",
     "output_type": "stream",
     "text": [
      "Backwards phase:\n",
      "i = 2:\n"
     ]
    },
    {
     "data": {
      "text/plain": "<IPython.core.display.Math object>",
      "text/latex": "$\\displaystyle {}^2f_2 = \\left[\\begin{matrix}m_{2} \\left(- \\ddot\\theta_{1} d_{2} - \\ddot\\theta_{1} l_{2} - \\dot\\theta_{1}^{2} l_{1} - 2 \\dot\\theta_{1} \\dot{d_2} + g \\cos{\\left(\\theta_{1} \\right)}\\right)\\\\0\\\\m_{2} \\left(\\ddot\\theta_{1} l_{1} + \\ddot{d_2} - \\dot\\theta_{1}^{2} d_{2} - \\dot\\theta_{1}^{2} l_{2} - g \\sin{\\left(\\theta_{1} \\right)}\\right)\\end{matrix}\\right]$"
     },
     "metadata": {},
     "output_type": "display_data"
    },
    {
     "data": {
      "text/plain": "<IPython.core.display.Math object>",
      "text/latex": "$\\displaystyle {}^2n_2 = \\left[\\begin{matrix}0\\\\- I_{yy2} \\ddot\\theta_{1} - l_{2} m_{2} \\left(\\ddot\\theta_{1} d_{2} + \\ddot\\theta_{1} l_{2} + \\dot\\theta_{1}^{2} l_{1} + 2 \\dot\\theta_{1} \\dot{d_2} - g \\cos{\\left(\\theta_{1} \\right)}\\right)\\\\0\\end{matrix}\\right]$"
     },
     "metadata": {},
     "output_type": "display_data"
    },
    {
     "name": "stdout",
     "output_type": "stream",
     "text": [
      "i = 1:\n"
     ]
    },
    {
     "data": {
      "text/plain": "<IPython.core.display.Math object>",
      "text/latex": "$\\displaystyle {}^1f_1 = \\left[\\begin{matrix}- \\frac{m_{1} \\left(\\dot\\theta_{1}^{2} l_{1} - 2 g \\cos{\\left(\\theta_{1} \\right)}\\right)}{2} - m_{2} \\left(\\ddot\\theta_{1} d_{2} + \\ddot\\theta_{1} l_{2} + \\dot\\theta_{1}^{2} l_{1} + 2 \\dot\\theta_{1} \\dot{d_2} - g \\cos{\\left(\\theta_{1} \\right)}\\right) \\cos{\\left(\\theta_{1} \\right)}\\\\\\frac{m_{1} \\left(\\ddot\\theta_{1} l_{1} - 2 g \\sin{\\left(\\theta_{1} \\right)}\\right)}{2} - m_{2} \\left(\\ddot\\theta_{1} d_{2} + \\ddot\\theta_{1} l_{2} + \\dot\\theta_{1}^{2} l_{1} + 2 \\dot\\theta_{1} \\dot{d_2} - g \\cos{\\left(\\theta_{1} \\right)}\\right) \\sin{\\left(\\theta_{1} \\right)}\\\\m_{2} \\left(\\ddot\\theta_{1} l_{1} + \\ddot{d_2} - \\dot\\theta_{1}^{2} d_{2} - \\dot\\theta_{1}^{2} l_{2} - g \\sin{\\left(\\theta_{1} \\right)}\\right)\\end{matrix}\\right]$"
     },
     "metadata": {},
     "output_type": "display_data"
    },
    {
     "data": {
      "text/plain": "<IPython.core.display.Math object>",
      "text/latex": "$\\displaystyle {}^1n_1 = \\left[\\begin{matrix}\\left(I_{yy2} \\ddot\\theta_{1} + l_{2} m_{2} \\left(\\ddot\\theta_{1} d_{2} + \\ddot\\theta_{1} l_{2} + \\dot\\theta_{1}^{2} l_{1} + 2 \\dot\\theta_{1} \\dot{d_2} - g \\cos{\\left(\\theta_{1} \\right)}\\right)\\right) \\sin{\\left(\\theta_{1} \\right)}\\\\- \\left(I_{yy2} \\ddot\\theta_{1} + l_{2} m_{2} \\left(\\ddot\\theta_{1} d_{2} + \\ddot\\theta_{1} l_{2} + \\dot\\theta_{1}^{2} l_{1} + 2 \\dot\\theta_{1} \\dot{d_2} - g \\cos{\\left(\\theta_{1} \\right)}\\right)\\right) \\cos{\\left(\\theta_{1} \\right)}\\\\I_{zz1} \\ddot\\theta_{1} + \\frac{l_{1} m_{1} \\left(\\ddot\\theta_{1} l_{1} - 2 g \\sin{\\left(\\theta_{1} \\right)}\\right)}{4}\\end{matrix}\\right]$"
     },
     "metadata": {},
     "output_type": "display_data"
    },
    {
     "name": "stdout",
     "output_type": "stream",
     "text": [
      "Joint torques/ forces:\n"
     ]
    },
    {
     "data": {
      "text/plain": "<IPython.core.display.Math object>",
      "text/latex": "$\\displaystyle \\tau = \\left[\\begin{matrix}\\tau_{1}\\\\\\tau_{2}\\end{matrix}\\right] = \\left[\\begin{matrix}I_{zz1} \\ddot\\theta_{1} + \\frac{l_{1} m_{1} \\left(\\ddot\\theta_{1} l_{1} - 2 g \\sin{\\left(\\theta_{1} \\right)}\\right)}{4}\\\\m_{2} \\left(\\ddot\\theta_{1} l_{1} + \\ddot{d_2} - \\dot\\theta_{1}^{2} d_{2} - \\dot\\theta_{1}^{2} l_{2} - g \\sin{\\left(\\theta_{1} \\right)}\\right)\\end{matrix}\\right]$"
     },
     "metadata": {},
     "output_type": "display_data"
    }
   ],
   "source": [
    "tau = utils.newton_euler(dh_params, joint_points, m_center_points, v_dot_0, link_m, link_I)"
   ],
   "metadata": {
    "collapsed": false,
    "pycharm": {
     "name": "#%%\n"
    }
   }
  },
  {
   "cell_type": "code",
   "execution_count": null,
   "outputs": [],
   "source": [],
   "metadata": {
    "collapsed": false,
    "pycharm": {
     "name": "#%%\n"
    }
   }
  }
 ],
 "metadata": {
  "kernelspec": {
   "display_name": "Python 3",
   "language": "python",
   "name": "python3"
  },
  "language_info": {
   "codemirror_mode": {
    "name": "ipython",
    "version": 2
   },
   "file_extension": ".py",
   "mimetype": "text/x-python",
   "name": "python",
   "nbconvert_exporter": "python",
   "pygments_lexer": "ipython2",
   "version": "2.7.6"
  }
 },
 "nbformat": 4,
 "nbformat_minor": 0
}