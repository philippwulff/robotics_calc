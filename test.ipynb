{
 "cells": [
  {
   "cell_type": "code",
   "execution_count": 59,
   "outputs": [
    {
     "name": "stdout",
     "output_type": "stream",
     "text": [
      "The autoreload extension is already loaded. To reload it, use:\n",
      "  %reload_ext autoreload\n"
     ]
    }
   ],
   "source": [
    "%load_ext autoreload\n",
    "%autoreload 2\n",
    "\n",
    "from utils import build_transf, full_homo_transf, prop_velo\n",
    "from sympy import sqrt, N\n",
    "import sympy"
   ],
   "metadata": {
    "collapsed": false,
    "pycharm": {
     "name": "#%%\n"
    }
   }
  },
  {
   "cell_type": "code",
   "execution_count": 43,
   "metadata": {
    "collapsed": true
   },
   "outputs": [],
   "source": [
    "dh_params = [[0, 0, 0, \"theta_1\"],\n",
    "             [0, 1, 0, \"theta_2\"],\n",
    "             [45, 0, sqrt(2), \"theta_3\"],\n",
    "             [0, sqrt(2), 0, \"theta_4\"]]"
   ]
  },
  {
   "cell_type": "code",
   "execution_count": 44,
   "outputs": [
    {
     "data": {
      "text/plain": "<IPython.core.display.Math object>",
      "text/latex": "$\\displaystyle {}^0_1T = \\left[\\begin{matrix}\\cos{\\left(\\theta_{1} \\right)} & - \\sin{\\left(\\theta_{1} \\right)} & 0 & 0\\\\\\sin{\\left(\\theta_{1} \\right)} & \\cos{\\left(\\theta_{1} \\right)} & 0 & 0\\\\0 & 0 & 1 & 0\\\\0 & 0 & 0 & 1\\end{matrix}\\right]$"
     },
     "metadata": {},
     "output_type": "display_data"
    },
    {
     "data": {
      "text/plain": "<IPython.core.display.Math object>",
      "text/latex": "$\\displaystyle {}^1_2T = \\left[\\begin{matrix}\\cos{\\left(\\theta_{2} \\right)} & - \\sin{\\left(\\theta_{2} \\right)} & 0 & 1\\\\\\sin{\\left(\\theta_{2} \\right)} & \\cos{\\left(\\theta_{2} \\right)} & 0 & 0\\\\0 & 0 & 1 & 0\\\\0 & 0 & 0 & 1\\end{matrix}\\right]$"
     },
     "metadata": {},
     "output_type": "display_data"
    },
    {
     "data": {
      "text/plain": "<IPython.core.display.Math object>",
      "text/latex": "$\\displaystyle {}^2_3T = \\left[\\begin{matrix}\\cos{\\left(\\theta_{3} \\right)} & - \\sin{\\left(\\theta_{3} \\right)} & 0 & 0\\\\\\frac{\\sqrt{2} \\sin{\\left(\\theta_{3} \\right)}}{2} & \\frac{\\sqrt{2} \\cos{\\left(\\theta_{3} \\right)}}{2} & - \\frac{\\sqrt{2}}{2} & -1\\\\\\frac{\\sqrt{2} \\sin{\\left(\\theta_{3} \\right)}}{2} & \\frac{\\sqrt{2} \\cos{\\left(\\theta_{3} \\right)}}{2} & \\frac{\\sqrt{2}}{2} & 1\\\\0 & 0 & 0 & 1\\end{matrix}\\right]$"
     },
     "metadata": {},
     "output_type": "display_data"
    },
    {
     "data": {
      "text/plain": "<IPython.core.display.Math object>",
      "text/latex": "$\\displaystyle {}^3_4T = \\left[\\begin{matrix}\\cos{\\left(\\theta_{4} \\right)} & - \\sin{\\left(\\theta_{4} \\right)} & 0 & \\sqrt{2}\\\\\\sin{\\left(\\theta_{4} \\right)} & \\cos{\\left(\\theta_{4} \\right)} & 0 & 0\\\\0 & 0 & 1 & 0\\\\0 & 0 & 0 & 1\\end{matrix}\\right]$"
     },
     "metadata": {},
     "output_type": "display_data"
    }
   ],
   "source": [
    "transforms = build_transf(dh_params, verbose=True)"
   ],
   "metadata": {
    "collapsed": false,
    "pycharm": {
     "name": "#%%\n"
    }
   }
  },
  {
   "cell_type": "code",
   "execution_count": 47,
   "outputs": [
    {
     "data": {
      "text/plain": "<IPython.core.display.Math object>",
      "text/latex": "$\\displaystyle {}^0_2T = \\left[\\begin{matrix}\\cos{\\left(\\theta_{1} + \\theta_{2} \\right)} & - \\sin{\\left(\\theta_{1} + \\theta_{2} \\right)} & 0 & \\cos{\\left(\\theta_{1} \\right)}\\\\\\sin{\\left(\\theta_{1} + \\theta_{2} \\right)} & \\cos{\\left(\\theta_{1} + \\theta_{2} \\right)} & 0 & \\sin{\\left(\\theta_{1} \\right)}\\\\0 & 0 & 1 & 0\\\\0 & 0 & 0 & 1\\end{matrix}\\right]$"
     },
     "metadata": {},
     "output_type": "display_data"
    },
    {
     "data": {
      "text/plain": "<IPython.core.display.Math object>",
      "text/latex": "$\\displaystyle {}^0_3T = \\left[\\begin{matrix}- \\frac{\\sqrt{2} \\sin{\\left(\\theta_{3} \\right)} \\sin{\\left(\\theta_{1} + \\theta_{2} \\right)}}{2} + \\cos{\\left(\\theta_{3} \\right)} \\cos{\\left(\\theta_{1} + \\theta_{2} \\right)} & - \\sin{\\left(\\theta_{3} \\right)} \\cos{\\left(\\theta_{1} + \\theta_{2} \\right)} - \\frac{\\sqrt{2} \\sin{\\left(\\theta_{1} + \\theta_{2} \\right)} \\cos{\\left(\\theta_{3} \\right)}}{2} & \\frac{\\sqrt{2} \\sin{\\left(\\theta_{1} + \\theta_{2} \\right)}}{2} & \\sin{\\left(\\theta_{1} + \\theta_{2} \\right)} + \\cos{\\left(\\theta_{1} \\right)}\\\\\\frac{\\sqrt{2} \\sin{\\left(\\theta_{3} \\right)} \\cos{\\left(\\theta_{1} + \\theta_{2} \\right)}}{2} + \\sin{\\left(\\theta_{1} + \\theta_{2} \\right)} \\cos{\\left(\\theta_{3} \\right)} & - \\sin{\\left(\\theta_{3} \\right)} \\sin{\\left(\\theta_{1} + \\theta_{2} \\right)} + \\frac{\\sqrt{2} \\cos{\\left(\\theta_{3} \\right)} \\cos{\\left(\\theta_{1} + \\theta_{2} \\right)}}{2} & - \\frac{\\sqrt{2} \\cos{\\left(\\theta_{1} + \\theta_{2} \\right)}}{2} & \\sin{\\left(\\theta_{1} \\right)} - \\cos{\\left(\\theta_{1} + \\theta_{2} \\right)}\\\\\\frac{\\sqrt{2} \\sin{\\left(\\theta_{3} \\right)}}{2} & \\frac{\\sqrt{2} \\cos{\\left(\\theta_{3} \\right)}}{2} & \\frac{\\sqrt{2}}{2} & 1\\\\0 & 0 & 0 & 1\\end{matrix}\\right]$"
     },
     "metadata": {},
     "output_type": "display_data"
    },
    {
     "data": {
      "text/plain": "<IPython.core.display.Math object>",
      "text/latex": "$\\displaystyle {}^0_4T = \\left[\\begin{matrix}- \\frac{\\sqrt{2} \\sin{\\left(\\theta_{1} + \\theta_{2} \\right)} \\sin{\\left(\\theta_{3} + \\theta_{4} \\right)}}{2} + \\cos{\\left(\\theta_{1} + \\theta_{2} \\right)} \\cos{\\left(\\theta_{3} + \\theta_{4} \\right)} & - \\frac{\\sqrt{2} \\sin{\\left(\\theta_{1} + \\theta_{2} \\right)} \\cos{\\left(\\theta_{3} + \\theta_{4} \\right)}}{2} - \\sin{\\left(\\theta_{3} + \\theta_{4} \\right)} \\cos{\\left(\\theta_{1} + \\theta_{2} \\right)} & \\frac{\\sqrt{2} \\sin{\\left(\\theta_{1} + \\theta_{2} \\right)}}{2} & - \\sin{\\left(\\theta_{3} \\right)} \\sin{\\left(\\theta_{1} + \\theta_{2} \\right)} + \\sin{\\left(\\theta_{1} + \\theta_{2} \\right)} + \\cos{\\left(\\theta_{1} \\right)} + \\sqrt{2} \\cos{\\left(\\theta_{3} \\right)} \\cos{\\left(\\theta_{1} + \\theta_{2} \\right)}\\\\\\sin{\\left(\\theta_{1} + \\theta_{2} \\right)} \\cos{\\left(\\theta_{3} + \\theta_{4} \\right)} + \\frac{\\sqrt{2} \\sin{\\left(\\theta_{3} + \\theta_{4} \\right)} \\cos{\\left(\\theta_{1} + \\theta_{2} \\right)}}{2} & - \\sin{\\left(\\theta_{1} + \\theta_{2} \\right)} \\sin{\\left(\\theta_{3} + \\theta_{4} \\right)} + \\frac{\\sqrt{2} \\cos{\\left(\\theta_{1} + \\theta_{2} \\right)} \\cos{\\left(\\theta_{3} + \\theta_{4} \\right)}}{2} & - \\frac{\\sqrt{2} \\cos{\\left(\\theta_{1} + \\theta_{2} \\right)}}{2} & \\sin{\\left(\\theta_{1} \\right)} + \\sin{\\left(\\theta_{3} \\right)} \\cos{\\left(\\theta_{1} + \\theta_{2} \\right)} + \\sqrt{2} \\sin{\\left(\\theta_{1} + \\theta_{2} \\right)} \\cos{\\left(\\theta_{3} \\right)} - \\cos{\\left(\\theta_{1} + \\theta_{2} \\right)}\\\\\\frac{\\sqrt{2} \\sin{\\left(\\theta_{3} + \\theta_{4} \\right)}}{2} & \\frac{\\sqrt{2} \\cos{\\left(\\theta_{3} + \\theta_{4} \\right)}}{2} & \\frac{\\sqrt{2}}{2} & \\sin{\\left(\\theta_{3} \\right)} + 1\\\\0 & 0 & 0 & 1\\end{matrix}\\right]$"
     },
     "metadata": {},
     "output_type": "display_data"
    }
   ],
   "source": [
    "full_transform = full_homo_transf(transforms)"
   ],
   "metadata": {
    "collapsed": false,
    "pycharm": {
     "name": "#%%\n"
    }
   }
  },
  {
   "cell_type": "markdown",
   "source": [],
   "metadata": {
    "collapsed": false,
    "pycharm": {
     "name": "#%% md\n"
    }
   }
  },
  {
   "cell_type": "code",
   "execution_count": 69,
   "outputs": [
    {
     "data": {
      "text/plain": "<IPython.core.display.Math object>",
      "text/latex": "$\\displaystyle {}^1\\omega_1 = \\left[\\begin{matrix}0\\\\0\\\\\\theta_{1}\\end{matrix}\\right]$"
     },
     "metadata": {},
     "output_type": "display_data"
    },
    {
     "data": {
      "text/plain": "<IPython.core.display.Math object>",
      "text/latex": "$\\displaystyle {}^1v_1 = \\left[\\begin{matrix}0\\\\0\\\\0\\end{matrix}\\right]$"
     },
     "metadata": {},
     "output_type": "display_data"
    },
    {
     "data": {
      "text/plain": "<IPython.core.display.Math object>",
      "text/latex": "$\\displaystyle {}^2\\omega_2 = \\left[\\begin{matrix}0\\\\0\\\\\\theta_{1} + \\theta_{2}\\end{matrix}\\right]$"
     },
     "metadata": {},
     "output_type": "display_data"
    },
    {
     "data": {
      "text/plain": "<IPython.core.display.Math object>",
      "text/latex": "$\\displaystyle {}^2v_2 = \\left[\\begin{matrix}- \\theta_{1} \\sin{\\left(\\theta_{2} \\right)}\\\\\\theta_{1} \\cos{\\left(\\theta_{2} \\right)}\\\\0\\end{matrix}\\right]$"
     },
     "metadata": {},
     "output_type": "display_data"
    },
    {
     "data": {
      "text/plain": "<IPython.core.display.Math object>",
      "text/latex": "$\\displaystyle {}^3\\omega_3 = \\left[\\begin{matrix}0\\\\\\frac{\\sqrt{2} \\left(- \\theta_{1} - \\theta_{2}\\right)}{2}\\\\\\theta_{3} + \\frac{\\sqrt{2} \\left(\\theta_{1} + \\theta_{2}\\right)}{2}\\end{matrix}\\right]$"
     },
     "metadata": {},
     "output_type": "display_data"
    },
    {
     "data": {
      "text/plain": "<IPython.core.display.Math object>",
      "text/latex": "$\\displaystyle {}^3v_3 = \\left[\\begin{matrix}\\left(\\theta_{1} + \\theta_{2}\\right) \\cos{\\left(\\theta_{3} \\right)}\\\\\\frac{\\sqrt{2} \\left(\\theta_{1} + \\theta_{2}\\right) \\sin{\\left(\\theta_{3} \\right)}}{2}\\\\\\frac{\\sqrt{2} \\left(\\theta_{1} + \\theta_{2}\\right) \\sin{\\left(\\theta_{3} \\right)}}{2}\\end{matrix}\\right]$"
     },
     "metadata": {},
     "output_type": "display_data"
    },
    {
     "data": {
      "text/plain": "<IPython.core.display.Math object>",
      "text/latex": "$\\displaystyle {}^4\\omega_4 = \\left[\\begin{matrix}\\frac{\\sqrt{2} \\left(\\theta_{1} + \\theta_{2}\\right) \\sin{\\left(\\theta_{4} \\right)}}{2}\\\\- \\frac{\\sqrt{2} \\left(\\theta_{1} + \\theta_{2}\\right) \\cos{\\left(\\theta_{4} \\right)}}{2}\\\\\\theta_{3} + \\theta_{4} + \\frac{\\sqrt{2} \\left(\\theta_{1} + \\theta_{2}\\right)}{2}\\end{matrix}\\right]$"
     },
     "metadata": {},
     "output_type": "display_data"
    },
    {
     "data": {
      "text/plain": "<IPython.core.display.Math object>",
      "text/latex": "$\\displaystyle {}^4v_4 = \\left[\\begin{matrix}\\left(- \\theta_{1} - \\theta_{2} - \\sqrt{2} \\theta_{3}\\right) \\sin{\\left(\\theta_{4} \\right)}\\\\\\left(\\theta_{1} + \\theta_{2} + \\sqrt{2} \\theta_{3}\\right) \\cos{\\left(\\theta_{4} \\right)}\\\\\\theta_{1} + \\theta_{2}\\end{matrix}\\right]$"
     },
     "metadata": {},
     "output_type": "display_data"
    }
   ],
   "source": [
    "rot = [t[:3, :3] for t in transforms]\n",
    "joint_points = [sympy.Matrix([0, 0, 0]),\n",
    "                sympy.Matrix([1, 0, 0]),\n",
    "                sympy.Matrix([0, -1, 1]),\n",
    "                sympy.Matrix([sqrt(2), 0, 0])]\n",
    "prop_velo(rot, [sympy.Symbol(\"theta_1\"), sympy.Symbol(\"theta_2\"), sympy.Symbol(\"theta_3\"), sympy.Symbol(\"theta_4\")], joint_points)"
   ],
   "metadata": {
    "collapsed": false,
    "pycharm": {
     "name": "#%%\n"
    }
   }
  },
  {
   "cell_type": "code",
   "execution_count": null,
   "outputs": [],
   "source": [],
   "metadata": {
    "collapsed": false,
    "pycharm": {
     "name": "#%%\n"
    }
   }
  }
 ],
 "metadata": {
  "kernelspec": {
   "display_name": "Python 3",
   "language": "python",
   "name": "python3"
  },
  "language_info": {
   "codemirror_mode": {
    "name": "ipython",
    "version": 2
   },
   "file_extension": ".py",
   "mimetype": "text/x-python",
   "name": "python",
   "nbconvert_exporter": "python",
   "pygments_lexer": "ipython2",
   "version": "2.7.6"
  }
 },
 "nbformat": 4,
 "nbformat_minor": 0
}